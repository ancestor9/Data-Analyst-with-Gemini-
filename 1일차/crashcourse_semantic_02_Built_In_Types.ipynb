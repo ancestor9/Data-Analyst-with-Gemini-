{
  "cells": [
    {
      "cell_type": "markdown",
      "metadata": {
        "id": "view-in-github",
        "colab_type": "text"
      },
      "source": [
        "<a href=\"https://colab.research.google.com/github/ancestor9/Data-Analyst-with-Gemini-/blob/main/1%EC%9D%BC%EC%B0%A8/crashcourse_semantic_02_Built_In_Types.ipynb\" target=\"_parent\"><img src=\"https://colab.research.google.com/assets/colab-badge.svg\" alt=\"Open In Colab\"/></a>"
      ]
    },
    {
      "cell_type": "markdown",
      "metadata": {
        "id": "kP9A5Cn8kv9i"
      },
      "source": [
        "# <font color='red'> II. A Crash course of Python Language Syntax"
      ]
    },
    {
      "cell_type": "markdown",
      "metadata": {
        "id": "w9r9jkQMkv9k"
      },
      "source": [
        "*This notebook contains an excerpt from the [Whirlwind Tour of Python](http://www.oreilly.com/programming/free/a-whirlwind-tour-of-python.csp) by Jake VanderPlas; the content is available [on GitHub](https://github.com/jakevdp/WhirlwindTourOfPython).*"
      ]
    },
    {
      "cell_type": "markdown",
      "metadata": {
        "id": "JdZvHZV1kv9k"
      },
      "source": [
        "# 1. Built-In Types: Simple Values"
      ]
    },
    {
      "cell_type": "markdown",
      "metadata": {
        "id": "0wfB5_X_kv9k"
      },
      "source": [
        "When discussing Python variables and objects, we mentioned the fact that all Python objects have type information attached. Here we'll briefly walk through the built-in simple types offered by Python.\n",
        "Python's simple types are summarized in the following table:\n",
        "\n",
        "<center>**Python Scalar Types**</center>\n",
        "\n",
        "| Type        | Example        | Description                                                  |\n",
        "|-------------|----------------|--------------------------------------------------------------|\n",
        "| ``int``     | ``x = 1``      | integers (i.e., whole numbers)                               |\n",
        "| ``float``   | ``x = 1.0``    | floating-point numbers (i.e., real numbers)                  |\n",
        "| ``complex`` | ``x = 1 + 2j`` | Complex numbers (i.e., numbers with real and imaginary part) |\n",
        "| ``bool``    | ``x = True``   | Boolean: True/False values                                   |\n",
        "| ``str``     | ``x = 'abc'``  | String: characters or text                                   |\n",
        "| ``NoneType``| ``x = None``   | Special object indicating nulls                              |\n",
        "\n",
        "We'll take a quick look at each of these in turn."
      ]
    },
    {
      "cell_type": "markdown",
      "metadata": {
        "id": "yjb7Uqjnkv9l"
      },
      "source": [
        "## Integers\n",
        "The most basic numerical type is the integer.\n",
        "Any number without a decimal point is an integer:"
      ]
    },
    {
      "cell_type": "code",
      "execution_count": null,
      "metadata": {
        "colab": {
          "base_uri": "https://localhost:8080/"
        },
        "id": "QFsic1UPkv9l",
        "outputId": "91183a0a-94d9-4531-ab4b-3fbf181b52fb"
      },
      "outputs": [
        {
          "output_type": "stream",
          "name": "stdout",
          "text": [
            "<class 'int'>\n"
          ]
        }
      ],
      "source": [
        "x = 1\n",
        "print(type(x))"
      ]
    },
    {
      "cell_type": "markdown",
      "metadata": {
        "id": "4FvBVPE4kv9m"
      },
      "source": [
        "Python integers are actually quite a bit more sophisticated than integers in languages like ``C``.\n",
        "C integers are fixed-precision, and usually overflow at some value (often near $2^{31}$ or $2^{63}$, depending on your system).\n",
        "Python integers are variable-precision, so you can do computations that would overflow in other languages:"
      ]
    },
    {
      "cell_type": "code",
      "execution_count": null,
      "metadata": {
        "colab": {
          "base_uri": "https://localhost:8080/"
        },
        "id": "HJc1TOukkv9m",
        "outputId": "28dfad5f-83b4-4032-db9c-8f0d45df2086"
      },
      "outputs": [
        {
          "output_type": "execute_result",
          "data": {
            "text/plain": [
              "1606938044258990275541962092341162602522202993782792835301376"
            ]
          },
          "metadata": {},
          "execution_count": 2
        }
      ],
      "source": [
        "2 ** 200"
      ]
    },
    {
      "cell_type": "markdown",
      "metadata": {
        "id": "58H5NFh8kv9m"
      },
      "source": [
        "Another convenient feature of Python integers is that by default, division up-casts to floating-point type:"
      ]
    },
    {
      "cell_type": "code",
      "execution_count": null,
      "metadata": {
        "colab": {
          "base_uri": "https://localhost:8080/"
        },
        "id": "0Mp0XloUkv9m",
        "outputId": "2572c3c3-7665-4dbe-ea13-3f3d1d2d7ac7"
      },
      "outputs": [
        {
          "output_type": "execute_result",
          "data": {
            "text/plain": [
              "2.5"
            ]
          },
          "metadata": {},
          "execution_count": 3
        }
      ],
      "source": [
        "5 / 2"
      ]
    },
    {
      "cell_type": "code",
      "execution_count": null,
      "metadata": {
        "colab": {
          "base_uri": "https://localhost:8080/"
        },
        "id": "Y-uh2K65kv9n",
        "outputId": "53d152b3-c525-495d-8485-1a9e774af0b8"
      },
      "outputs": [
        {
          "output_type": "execute_result",
          "data": {
            "text/plain": [
              "2"
            ]
          },
          "metadata": {},
          "execution_count": 4
        }
      ],
      "source": [
        "5 // 2"
      ]
    },
    {
      "cell_type": "code",
      "source": [
        "5%2"
      ],
      "metadata": {
        "colab": {
          "base_uri": "https://localhost:8080/"
        },
        "id": "jMUqGQ1jk5Kr",
        "outputId": "6c74320e-b34d-4423-d914-1ecc671a2170"
      },
      "execution_count": null,
      "outputs": [
        {
          "output_type": "execute_result",
          "data": {
            "text/plain": [
              "1"
            ]
          },
          "metadata": {},
          "execution_count": 5
        }
      ]
    },
    {
      "cell_type": "markdown",
      "metadata": {
        "id": "BFQeOsPlkv9n"
      },
      "source": [
        "## Floating-Point Numbers\n",
        "The floating-point type can store fractional numbers.\n",
        "They can be defined either in standard decimal notation, or in exponential notation:"
      ]
    },
    {
      "cell_type": "code",
      "execution_count": null,
      "metadata": {
        "colab": {
          "base_uri": "https://localhost:8080/"
        },
        "id": "aZZyutJwkv9n",
        "outputId": "589d74dd-2738-41b8-b0c2-7eb319c6dfac"
      },
      "outputs": [
        {
          "output_type": "stream",
          "name": "stdout",
          "text": [
            "True\n"
          ]
        }
      ],
      "source": [
        "x = 0.000005\n",
        "y = 5e-6\n",
        "print(x == y)"
      ]
    },
    {
      "cell_type": "code",
      "execution_count": null,
      "metadata": {
        "colab": {
          "base_uri": "https://localhost:8080/"
        },
        "id": "YPqdeLPKkv9n",
        "outputId": "5d7c59c7-945c-4917-95f2-82ed02e92b08"
      },
      "outputs": [
        {
          "output_type": "stream",
          "name": "stdout",
          "text": [
            "True\n"
          ]
        }
      ],
      "source": [
        "x = 1400000.00\n",
        "y = 1.4e6\n",
        "print(x == y)"
      ]
    },
    {
      "cell_type": "markdown",
      "metadata": {
        "id": "DsHLia2-kv9n"
      },
      "source": [
        "In the exponential notation, the ``e`` or ``E`` can be read \"...times ten to the...\",\n",
        "so that ``1.4e6`` is interpreted as $~1.4 \\times 10^6$."
      ]
    },
    {
      "cell_type": "markdown",
      "metadata": {
        "id": "VSwBaRc2kv9n"
      },
      "source": [
        "An integer can be explicitly converted to a float with the ``float`` constructor:"
      ]
    },
    {
      "cell_type": "code",
      "execution_count": null,
      "metadata": {
        "colab": {
          "base_uri": "https://localhost:8080/"
        },
        "id": "EVE4pLM-kv9o",
        "outputId": "24f08481-1d7e-4f41-c76a-ff494233e569"
      },
      "outputs": [
        {
          "output_type": "execute_result",
          "data": {
            "text/plain": [
              "1.0"
            ]
          },
          "metadata": {},
          "execution_count": 8
        }
      ],
      "source": [
        "float(1)"
      ]
    },
    {
      "cell_type": "markdown",
      "metadata": {
        "id": "QnsPFLzLkv9o"
      },
      "source": [
        "### Aside: Floating-point precision\n",
        "One thing to be aware of with floating point arithmetic is that its precision is limited, which can cause equality tests to be unstable. For example:"
      ]
    },
    {
      "cell_type": "code",
      "execution_count": null,
      "metadata": {
        "colab": {
          "base_uri": "https://localhost:8080/"
        },
        "id": "DYU9-2-mkv9o",
        "outputId": "d5dde2d7-2a42-4e20-b1b4-d8994ebb170f"
      },
      "outputs": [
        {
          "output_type": "execute_result",
          "data": {
            "text/plain": [
              "False"
            ]
          },
          "metadata": {},
          "execution_count": 9
        }
      ],
      "source": [
        "0.1 + 0.2 == 0.3"
      ]
    },
    {
      "cell_type": "markdown",
      "metadata": {
        "id": "Cp8M0Qm6kv9o"
      },
      "source": [
        "Why is this the case? It turns out that it is not a behavior unique to Python, but is due to the fixed-precision format of the binary floating-point storage used by most, if not all, scientific computing platforms.\n",
        "All programming languages using floating-point numbers store them in a fixed number of bits, and this leads some numbers to be represented only approximately.\n",
        "We can see this by printing the three values to high precision:"
      ]
    },
    {
      "cell_type": "code",
      "execution_count": null,
      "metadata": {
        "colab": {
          "base_uri": "https://localhost:8080/"
        },
        "id": "2DJUUvuSkv9o",
        "outputId": "b257109d-aa22-429c-bd64-9dfc2edc01d4"
      },
      "outputs": [
        {
          "output_type": "stream",
          "name": "stdout",
          "text": [
            "hello Hi\n"
          ]
        }
      ],
      "source": [
        "A = 'Hi'\n",
        "print(f'hello {A}')"
      ]
    },
    {
      "cell_type": "code",
      "execution_count": null,
      "metadata": {
        "colab": {
          "base_uri": "https://localhost:8080/"
        },
        "id": "SeVIOEYukv9o",
        "outputId": "7f775335-8220-49d2-90da-80cf81d46bb1"
      },
      "outputs": [
        {
          "output_type": "stream",
          "name": "stdout",
          "text": [
            "0.1 = 0.10000000000000001\n",
            "0.1 = 0.20000000000000001\n",
            "0.1 = 0.29999999999999999\n"
          ]
        }
      ],
      "source": [
        "print(f'0.1 = {0.1:.17f}')\n",
        "print(f'0.1 = {0.2:.17f}')\n",
        "print(f'0.1 = {0.3:.17f}')"
      ]
    },
    {
      "cell_type": "markdown",
      "metadata": {
        "id": "_4Q9BYiukv9o"
      },
      "source": [
        "We're accustomed to thinking of numbers in decimal (base-10) notation, so that each fraction must be expressed as a sum of powers of 10:\n",
        "$$\n",
        "1 /8 = 1\\cdot 10^{-1} + 2\\cdot 10^{-2} + 5\\cdot 10^{-3}\n",
        "$$\n",
        "In the familiar base-10 representation, we represent this in the familiar decimal expression: $0.125$.\n",
        "\n",
        "Computers usually store values in binary notation, so that each number is expressed as a sum of powers of 2:\n",
        "$$\n",
        "1/8 = 0\\cdot 2^{-1} + 0\\cdot 2^{-2} + 1\\cdot 2^{-3}\n",
        "$$\n",
        "In a base-2 representation, we can write this $0.001_2$, where the subscript 2 indicates binary notation.\n",
        "The value $0.125 = 0.001_2$ happens to be one number which both binary and decimal notation can represent in a finite number of digits.\n",
        "\n",
        "In the familiar base-10 representation of numbers, you are probably familiar with numbers that can't be expressed in a finite number of digits.\n",
        "For example, dividing $1$ by $3$ gives, in standard decimal notation:\n",
        "$$\n",
        "1 / 3 = 0.333333333\\cdots\n",
        "$$\n",
        "The 3s go on forever: that is, to truly represent this quotient, the number of required digits is infinite!\n",
        "\n",
        "Similarly, there are numbers for which binary representations require an infinite number of digits.\n",
        "For example:\n",
        "$$\n",
        "1 / 10 = 0.00011001100110011\\cdots_2\n",
        "$$\n",
        "Just as decimal notation requires an infinite number of digits to perfectly represent $1/3$, binary notation requires an infinite number of digits to represent $1/10$.\n",
        "Python internally truncates these representations at 52 bits beyond the first nonzero bit on most systems.\n",
        "\n",
        "This rounding error for floating-point values is a necessary evil of working with floating-point numbers.\n",
        "The best way to deal with it is to always keep in mind that floating-point arithmetic is approximate, and *never* rely on exact equality tests with floating-point values."
      ]
    },
    {
      "cell_type": "markdown",
      "metadata": {
        "id": "j8NRx0okkv9o"
      },
      "source": [
        "## String Type\n",
        "Strings in Python are created with single or double quotes:"
      ]
    },
    {
      "cell_type": "code",
      "execution_count": null,
      "metadata": {
        "id": "YbvagRgMkv9o"
      },
      "outputs": [],
      "source": [
        "message = \"what do you like?\"\n",
        "response = 'spam'"
      ]
    },
    {
      "cell_type": "markdown",
      "metadata": {
        "id": "UfYZ-W9akv9p"
      },
      "source": [
        "Python has many extremely useful string functions and methods; here are a few of them:"
      ]
    },
    {
      "cell_type": "code",
      "execution_count": null,
      "metadata": {
        "colab": {
          "base_uri": "https://localhost:8080/"
        },
        "id": "E_ZzZt2Akv9p",
        "outputId": "3c182e08-8005-4191-ee8f-7fa36f9ee8d7"
      },
      "outputs": [
        {
          "output_type": "execute_result",
          "data": {
            "text/plain": [
              "4"
            ]
          },
          "metadata": {},
          "execution_count": 13
        }
      ],
      "source": [
        "# length of string\n",
        "len(response)"
      ]
    },
    {
      "cell_type": "code",
      "execution_count": null,
      "metadata": {
        "colab": {
          "base_uri": "https://localhost:8080/",
          "height": 35
        },
        "id": "LAo9MZjAkv9p",
        "outputId": "646aca4d-28e0-4ad2-e1d7-32dd4d65d36b"
      },
      "outputs": [
        {
          "output_type": "execute_result",
          "data": {
            "text/plain": [
              "'SPAM'"
            ],
            "application/vnd.google.colaboratory.intrinsic+json": {
              "type": "string"
            }
          },
          "metadata": {},
          "execution_count": 14
        }
      ],
      "source": [
        "# Make upper-case. See also str.lower()\n",
        "response.upper()"
      ]
    },
    {
      "cell_type": "code",
      "execution_count": null,
      "metadata": {
        "colab": {
          "base_uri": "https://localhost:8080/",
          "height": 35
        },
        "id": "TB_-bRRJkv9p",
        "outputId": "e4ff8ab8-c650-4ed2-afdd-fee51f748e3c"
      },
      "outputs": [
        {
          "output_type": "execute_result",
          "data": {
            "text/plain": [
              "'What do you like?'"
            ],
            "application/vnd.google.colaboratory.intrinsic+json": {
              "type": "string"
            }
          },
          "metadata": {},
          "execution_count": 15
        }
      ],
      "source": [
        "# Capitalize. See also str.title()\n",
        "message.capitalize()"
      ]
    },
    {
      "cell_type": "code",
      "execution_count": null,
      "metadata": {
        "colab": {
          "base_uri": "https://localhost:8080/",
          "height": 35
        },
        "id": "UDkAGxXVkv9p",
        "outputId": "9d0ef08f-4dea-451a-cc04-57d413c4b205"
      },
      "outputs": [
        {
          "output_type": "execute_result",
          "data": {
            "text/plain": [
              "'what do you like?spam'"
            ],
            "application/vnd.google.colaboratory.intrinsic+json": {
              "type": "string"
            }
          },
          "metadata": {},
          "execution_count": 16
        }
      ],
      "source": [
        "# concatenation with +\n",
        "message + response"
      ]
    },
    {
      "cell_type": "code",
      "execution_count": null,
      "metadata": {
        "colab": {
          "base_uri": "https://localhost:8080/",
          "height": 35
        },
        "id": "TarNZVZNkv9p",
        "outputId": "0394118b-556a-44f4-fd24-a21048fd0e49"
      },
      "outputs": [
        {
          "output_type": "execute_result",
          "data": {
            "text/plain": [
              "'spamspamspamspamspam'"
            ],
            "application/vnd.google.colaboratory.intrinsic+json": {
              "type": "string"
            }
          },
          "metadata": {},
          "execution_count": 17
        }
      ],
      "source": [
        "# multiplication is multiple concatenation\n",
        "5 * response"
      ]
    },
    {
      "cell_type": "code",
      "execution_count": null,
      "metadata": {
        "colab": {
          "base_uri": "https://localhost:8080/",
          "height": 35
        },
        "id": "O341FBZAkv9p",
        "outputId": "3a4e35bd-fa3f-4b38-8347-016e24862668"
      },
      "outputs": [
        {
          "output_type": "execute_result",
          "data": {
            "text/plain": [
              "'w'"
            ],
            "application/vnd.google.colaboratory.intrinsic+json": {
              "type": "string"
            }
          },
          "metadata": {},
          "execution_count": 18
        }
      ],
      "source": [
        "# Access individual characters (zero-based indexing)\n",
        "message[0]"
      ]
    },
    {
      "cell_type": "markdown",
      "metadata": {
        "id": "xc_aXo2Pkv9p"
      },
      "source": [
        "## None Type\n",
        "Python includes a special type, the ``NoneType``, which has only a single possible value: ``None``. For example:"
      ]
    },
    {
      "cell_type": "code",
      "execution_count": null,
      "metadata": {
        "colab": {
          "base_uri": "https://localhost:8080/"
        },
        "id": "MwW3DhWmkv9p",
        "outputId": "179fa2e5-b8c2-43cf-e45e-ec8dcac08d56"
      },
      "outputs": [
        {
          "output_type": "execute_result",
          "data": {
            "text/plain": [
              "NoneType"
            ]
          },
          "metadata": {},
          "execution_count": 19
        }
      ],
      "source": [
        "type(None)"
      ]
    },
    {
      "cell_type": "markdown",
      "metadata": {
        "id": "mrbom4Fykv9p"
      },
      "source": [
        "You'll see ``None`` used in many places, but perhaps most commonly it is used as the default return value of a function.\n",
        "For example, the ``print()`` function in Python 3 does not return anything, but we can still catch its value:"
      ]
    },
    {
      "cell_type": "code",
      "execution_count": null,
      "metadata": {
        "colab": {
          "base_uri": "https://localhost:8080/"
        },
        "id": "2vYYlsNmkv9q",
        "outputId": "792653d5-b332-4c4e-cae2-61431bd401c5"
      },
      "outputs": [
        {
          "output_type": "stream",
          "name": "stdout",
          "text": [
            "abc\n"
          ]
        }
      ],
      "source": [
        "return_value = print('abc')"
      ]
    },
    {
      "cell_type": "code",
      "execution_count": null,
      "metadata": {
        "colab": {
          "base_uri": "https://localhost:8080/"
        },
        "id": "8fExFwSxkv9q",
        "outputId": "8c52551d-88f8-45e2-d9dc-1bc8e98b4988"
      },
      "outputs": [
        {
          "output_type": "stream",
          "name": "stdout",
          "text": [
            "None\n"
          ]
        }
      ],
      "source": [
        "print(return_value)"
      ]
    },
    {
      "cell_type": "markdown",
      "metadata": {
        "id": "5KWEzt8Pkv9q"
      },
      "source": [
        "## Boolean Type\n",
        "The Boolean type is a simple type with two possible values: ``True`` and ``False``, and is returned by comparison operators discussed previously:"
      ]
    },
    {
      "cell_type": "code",
      "execution_count": null,
      "metadata": {
        "colab": {
          "base_uri": "https://localhost:8080/"
        },
        "id": "PrA-vwZOkv9q",
        "outputId": "a4e5773b-8af3-47ad-9ee7-3004a6f6fa3a"
      },
      "outputs": [
        {
          "output_type": "execute_result",
          "data": {
            "text/plain": [
              "True"
            ]
          },
          "metadata": {},
          "execution_count": 22
        }
      ],
      "source": [
        "result = (4 < 5)\n",
        "result"
      ]
    },
    {
      "cell_type": "code",
      "execution_count": null,
      "metadata": {
        "colab": {
          "base_uri": "https://localhost:8080/"
        },
        "id": "Tt1TEWJhkv9u",
        "outputId": "c20c24a4-5f79-4b4a-ebb9-82f3d177a165"
      },
      "outputs": [
        {
          "output_type": "execute_result",
          "data": {
            "text/plain": [
              "bool"
            ]
          },
          "metadata": {},
          "execution_count": 23
        }
      ],
      "source": [
        "type(result)"
      ]
    },
    {
      "cell_type": "markdown",
      "metadata": {
        "id": "F8LzbiEXkv9u"
      },
      "source": [
        "Keep in mind that the Boolean values are case-sensitive: unlike some other languages, ``True`` and ``False`` must be capitalized!"
      ]
    },
    {
      "cell_type": "code",
      "execution_count": null,
      "metadata": {
        "colab": {
          "base_uri": "https://localhost:8080/"
        },
        "id": "5YZjcCn1kv9u",
        "outputId": "74ad45d5-1056-43ea-8c6f-365c070589ac"
      },
      "outputs": [
        {
          "output_type": "stream",
          "name": "stdout",
          "text": [
            "True False\n"
          ]
        }
      ],
      "source": [
        "print(True, False)"
      ]
    },
    {
      "cell_type": "markdown",
      "metadata": {
        "id": "6v2TWEafkv9u"
      },
      "source": [
        "Booleans can also be constructed using the ``bool()`` object constructor: values of any other type can be converted to Boolean via predictable rules.\n",
        "For example, any numeric type is False if equal to zero, and True otherwise:"
      ]
    },
    {
      "cell_type": "code",
      "execution_count": null,
      "metadata": {
        "colab": {
          "base_uri": "https://localhost:8080/"
        },
        "id": "oWpS_AMykv9u",
        "outputId": "a955c0af-252e-4713-ce91-af79bd1ba367"
      },
      "outputs": [
        {
          "output_type": "execute_result",
          "data": {
            "text/plain": [
              "True"
            ]
          },
          "metadata": {},
          "execution_count": 25
        }
      ],
      "source": [
        "bool(2014)"
      ]
    },
    {
      "cell_type": "code",
      "execution_count": null,
      "metadata": {
        "colab": {
          "base_uri": "https://localhost:8080/"
        },
        "id": "YreO2Q8Gkv9u",
        "outputId": "07cb3b9b-ecaa-4012-e38c-ea759a4f05e4"
      },
      "outputs": [
        {
          "output_type": "execute_result",
          "data": {
            "text/plain": [
              "False"
            ]
          },
          "metadata": {},
          "execution_count": 27
        }
      ],
      "source": [
        "bool(0)"
      ]
    },
    {
      "cell_type": "code",
      "execution_count": null,
      "metadata": {
        "colab": {
          "base_uri": "https://localhost:8080/"
        },
        "id": "UzWlMlNrkv9v",
        "outputId": "093ee21d-8c4e-42f7-827e-785e83ccdb71"
      },
      "outputs": [
        {
          "output_type": "execute_result",
          "data": {
            "text/plain": [
              "True"
            ]
          },
          "metadata": {},
          "execution_count": 26
        }
      ],
      "source": [
        "bool(3.1415)"
      ]
    },
    {
      "cell_type": "markdown",
      "metadata": {
        "id": "l_dES9fokv9v"
      },
      "source": [
        "The Boolean conversion of ``None`` is always False:"
      ]
    },
    {
      "cell_type": "code",
      "execution_count": null,
      "metadata": {
        "colab": {
          "base_uri": "https://localhost:8080/"
        },
        "id": "vScuuC9Tkv9v",
        "outputId": "5e5b70ac-7ff0-4c30-e482-b459a1b8942a"
      },
      "outputs": [
        {
          "output_type": "execute_result",
          "data": {
            "text/plain": [
              "False"
            ]
          },
          "metadata": {},
          "execution_count": 28
        }
      ],
      "source": [
        "bool(None)"
      ]
    },
    {
      "cell_type": "markdown",
      "metadata": {
        "id": "MsFdrX_mkv9v"
      },
      "source": [
        "For strings, ``bool(s)`` is False for empty strings and True otherwise:"
      ]
    },
    {
      "cell_type": "code",
      "execution_count": null,
      "metadata": {
        "colab": {
          "base_uri": "https://localhost:8080/"
        },
        "id": "WgQFNV5kkv9v",
        "outputId": "9769f97b-3b06-4ac3-841a-d0faf70e8ec8"
      },
      "outputs": [
        {
          "output_type": "execute_result",
          "data": {
            "text/plain": [
              "False"
            ]
          },
          "metadata": {},
          "execution_count": 29
        }
      ],
      "source": [
        "bool(\"\")"
      ]
    },
    {
      "cell_type": "code",
      "execution_count": null,
      "metadata": {
        "colab": {
          "base_uri": "https://localhost:8080/"
        },
        "id": "Qqjfkiw6kv9v",
        "outputId": "57c34345-435e-46ba-f4a3-512355697802"
      },
      "outputs": [
        {
          "output_type": "execute_result",
          "data": {
            "text/plain": [
              "True"
            ]
          },
          "metadata": {},
          "execution_count": 30
        }
      ],
      "source": [
        "bool(\"abc\")"
      ]
    },
    {
      "cell_type": "markdown",
      "metadata": {
        "id": "R_eGqerTkv9v"
      },
      "source": [
        "For sequences, which we'll see in the next section, the Boolean representation is False for empty sequences and True for any other sequences"
      ]
    },
    {
      "cell_type": "code",
      "execution_count": null,
      "metadata": {
        "colab": {
          "base_uri": "https://localhost:8080/"
        },
        "id": "gZNqGlGBkv9v",
        "outputId": "cee05e14-f1f7-4307-84ec-c0ae5e67e217"
      },
      "outputs": [
        {
          "output_type": "execute_result",
          "data": {
            "text/plain": [
              "True"
            ]
          },
          "metadata": {},
          "execution_count": 31
        }
      ],
      "source": [
        "bool([1, 2, 3])"
      ]
    },
    {
      "cell_type": "code",
      "execution_count": null,
      "metadata": {
        "colab": {
          "base_uri": "https://localhost:8080/"
        },
        "id": "Ug3MnDfQkv9v",
        "outputId": "559be1c5-ca5f-4890-ccac-2cab5d0666ee"
      },
      "outputs": [
        {
          "output_type": "execute_result",
          "data": {
            "text/plain": [
              "False"
            ]
          },
          "metadata": {},
          "execution_count": 32
        }
      ],
      "source": [
        "bool([])"
      ]
    },
    {
      "cell_type": "markdown",
      "metadata": {
        "id": "Q5_5MHgrkv9v"
      },
      "source": [
        "# 2. Built-In Data Structures"
      ]
    },
    {
      "cell_type": "markdown",
      "metadata": {
        "id": "ZYkrZzCWkv9w"
      },
      "source": [
        "We have seen Python's simple types: ``int``, ``float``, ``complex``, ``bool``, ``str``, and so on.\n",
        "Python also has several built-in compound types, which act as containers for other types.\n",
        "These compound types are:\n",
        "\n",
        "| Type Name | Example                   |Description                            |\n",
        "|-----------|---------------------------|---------------------------------------|\n",
        "| ``list``  | ``[1, 2, 3]``             | Ordered collection                    |\n",
        "| ``tuple`` | ``(1, 2, 3)``             | Immutable ordered collection          |\n",
        "| ``dict``  | ``{'a':1, 'b':2, 'c':3}`` | Unordered (key,value) mapping         |\n",
        "| ``set``   | ``{1, 2, 3}``             | Unordered collection of unique values |"
      ]
    },
    {
      "cell_type": "markdown",
      "metadata": {
        "id": "cTvvmTCLkv9w"
      },
      "source": [
        "## Lists\n",
        "Lists are the basic *ordered* and *mutable* data collection type in Python.\n",
        "They can be defined with comma-separated values between square brackets; for example, here is a list of the first several prime numbers:"
      ]
    },
    {
      "cell_type": "code",
      "execution_count": null,
      "metadata": {
        "id": "RLAHKWEVkv9w"
      },
      "outputs": [],
      "source": [
        "L = [2, 3, 5, 7]"
      ]
    },
    {
      "cell_type": "markdown",
      "metadata": {
        "id": "EM8u0TqGkv9w"
      },
      "source": [
        "Lists have a number of useful properties and methods available to them.\n",
        "Here we'll take a quick look at some of the more common and useful ones:"
      ]
    },
    {
      "cell_type": "code",
      "execution_count": null,
      "metadata": {
        "colab": {
          "base_uri": "https://localhost:8080/"
        },
        "id": "WPCM8emwkv9w",
        "outputId": "0a63fff1-562b-49c3-a6ad-1d584bad0ece"
      },
      "outputs": [
        {
          "output_type": "execute_result",
          "data": {
            "text/plain": [
              "4"
            ]
          },
          "metadata": {},
          "execution_count": 34
        }
      ],
      "source": [
        "# Length of a list\n",
        "len(L)"
      ]
    },
    {
      "cell_type": "code",
      "execution_count": null,
      "metadata": {
        "colab": {
          "base_uri": "https://localhost:8080/"
        },
        "id": "vyYNdwkmkv9w",
        "outputId": "7280066a-e5f6-4e28-879f-25f89b05d0ee"
      },
      "outputs": [
        {
          "output_type": "execute_result",
          "data": {
            "text/plain": [
              "[2, 3, 5, 7, 11]"
            ]
          },
          "metadata": {},
          "execution_count": 35
        }
      ],
      "source": [
        "# Append a value to the end\n",
        "L.append(11)\n",
        "L"
      ]
    },
    {
      "cell_type": "code",
      "execution_count": null,
      "metadata": {
        "colab": {
          "base_uri": "https://localhost:8080/"
        },
        "id": "2jYs9x7Mkv9w",
        "outputId": "5b963970-29e0-4197-f235-58f33c7141a8"
      },
      "outputs": [
        {
          "output_type": "execute_result",
          "data": {
            "text/plain": [
              "[2, 3, 5, 7, 11, 13, 17, 19]"
            ]
          },
          "metadata": {},
          "execution_count": 36
        }
      ],
      "source": [
        "# Addition concatenates lists\n",
        "L + [13, 17, 19]"
      ]
    },
    {
      "cell_type": "code",
      "execution_count": null,
      "metadata": {
        "colab": {
          "base_uri": "https://localhost:8080/"
        },
        "id": "COdV2Rxqkv9w",
        "outputId": "fa4687cd-3d48-4a24-86a1-34d3cf94819b"
      },
      "outputs": [
        {
          "output_type": "execute_result",
          "data": {
            "text/plain": [
              "[1, 2, 3, 4, 5, 6]"
            ]
          },
          "metadata": {},
          "execution_count": 37
        }
      ],
      "source": [
        "# sort() method sorts in-place\n",
        "L = [2, 5, 1, 6, 3, 4]\n",
        "L.sort()\n",
        "L"
      ]
    },
    {
      "cell_type": "markdown",
      "metadata": {
        "id": "NFBiswyCkv9x"
      },
      "source": [
        "In addition, there are many more built-in list methods; they are well-covered in Python's [online documentation](https://docs.python.org/3/tutorial/datastructures.html).\n",
        "\n",
        "While we've been demonstrating lists containing values of a single type, one of the powerful features of Python's compound objects is that they can contain objects of *any* type, or even a mix of types. For example:"
      ]
    },
    {
      "cell_type": "code",
      "execution_count": null,
      "metadata": {
        "id": "Brlc_toSkv9x"
      },
      "outputs": [],
      "source": [
        "L = [1, 'two', 3.14, [0, 3, 5]]"
      ]
    },
    {
      "cell_type": "markdown",
      "metadata": {
        "id": "23QxPaKCkv9x"
      },
      "source": [
        "This flexibility is a consequence of Python's dynamic type system. Creating such a mixed sequence in a statically-typed language like C can be much more of a headache! We see that lists can even contain other lists as elements. Such type flexibility is an essential piece of what makes Python code relatively quick and easy to write.\n",
        "\n",
        "So far we've been considering manipulations of lists as a whole; another essential piece is the accessing of individual elements. This is done in Python via indexing and slicing, which we'll explore next."
      ]
    },
    {
      "cell_type": "markdown",
      "metadata": {
        "id": "ZHjMrbq3kv9x"
      },
      "source": [
        "### List indexing and slicing\n",
        "Python provides access to elements in compound types through *indexing* for single elements, and *slicing* for multiple elements.\n",
        "As we'll see, both are indicated by a square-bracket syntax.\n",
        "Suppose we return to our list of the first several primes:"
      ]
    },
    {
      "cell_type": "code",
      "execution_count": null,
      "metadata": {
        "id": "_ecHc4Otkv9y"
      },
      "outputs": [],
      "source": [
        "L = [1,3,5,7,11,13,17]"
      ]
    },
    {
      "cell_type": "markdown",
      "metadata": {
        "id": "XBSOn5Gskv9y"
      },
      "source": [
        "Python uses *zero-based* indexing, so we can access the first and second element in using the following syntax:"
      ]
    },
    {
      "cell_type": "code",
      "execution_count": null,
      "metadata": {
        "colab": {
          "base_uri": "https://localhost:8080/"
        },
        "id": "MKcwp44ekv9y",
        "outputId": "b432a17c-efc2-4b1c-b647-2a467cc75da3"
      },
      "outputs": [
        {
          "output_type": "execute_result",
          "data": {
            "text/plain": [
              "1"
            ]
          },
          "metadata": {},
          "execution_count": 40
        }
      ],
      "source": [
        "L[0]"
      ]
    },
    {
      "cell_type": "code",
      "execution_count": null,
      "metadata": {
        "colab": {
          "base_uri": "https://localhost:8080/"
        },
        "id": "cneLjzR0kv9y",
        "outputId": "676e523f-d3c9-4eb6-aa88-753f6bf01ba6"
      },
      "outputs": [
        {
          "output_type": "execute_result",
          "data": {
            "text/plain": [
              "7"
            ]
          },
          "metadata": {},
          "execution_count": 41
        }
      ],
      "source": [
        "L[3]"
      ]
    },
    {
      "cell_type": "markdown",
      "metadata": {
        "id": "UC4lxqzOkv9z"
      },
      "source": [
        "Elements at the end of the list can be accessed with negative numbers, starting from -1:"
      ]
    },
    {
      "cell_type": "code",
      "execution_count": null,
      "metadata": {
        "colab": {
          "base_uri": "https://localhost:8080/"
        },
        "id": "oRsJJf68kv9z",
        "outputId": "a0fb1869-5fc2-43ad-91d6-617a6413b480"
      },
      "outputs": [
        {
          "output_type": "execute_result",
          "data": {
            "text/plain": [
              "17"
            ]
          },
          "metadata": {},
          "execution_count": 42
        }
      ],
      "source": [
        "L[-1]"
      ]
    },
    {
      "cell_type": "code",
      "execution_count": null,
      "metadata": {
        "colab": {
          "base_uri": "https://localhost:8080/"
        },
        "id": "TPiXM0Iikv9z",
        "outputId": "e2428785-1fd8-43d0-d0d8-2250cdf6b2ac"
      },
      "outputs": [
        {
          "output_type": "execute_result",
          "data": {
            "text/plain": [
              "11"
            ]
          },
          "metadata": {},
          "execution_count": 43
        }
      ],
      "source": [
        "L[-3]"
      ]
    },
    {
      "cell_type": "markdown",
      "metadata": {
        "id": "wsGWvqAfkv9z"
      },
      "source": [
        "Where *indexing* is a means of fetching a single value from the list, *slicing* is a means of accessing multiple values in sub-lists.\n",
        "It uses a colon to indicate the start point (inclusive) and end point (non-inclusive) of the sub-array.\n",
        "For example, to get the first three elements of the list, we can write:"
      ]
    },
    {
      "cell_type": "code",
      "execution_count": null,
      "metadata": {
        "colab": {
          "base_uri": "https://localhost:8080/"
        },
        "id": "Kk_vjucFkv9z",
        "outputId": "5846d261-f522-4626-c583-f9c83e76960b"
      },
      "outputs": [
        {
          "output_type": "execute_result",
          "data": {
            "text/plain": [
              "[1, 3, 5]"
            ]
          },
          "metadata": {},
          "execution_count": 44
        }
      ],
      "source": [
        "L[0:3]"
      ]
    },
    {
      "cell_type": "code",
      "execution_count": null,
      "metadata": {
        "colab": {
          "base_uri": "https://localhost:8080/"
        },
        "id": "1Rpv6Pd_kv9z",
        "outputId": "094314d9-ea51-4a5c-dc5e-14d51a09c787"
      },
      "outputs": [
        {
          "output_type": "execute_result",
          "data": {
            "text/plain": [
              "[1, 3, 5]"
            ]
          },
          "metadata": {},
          "execution_count": 45
        }
      ],
      "source": [
        "L[:3]"
      ]
    },
    {
      "cell_type": "code",
      "execution_count": null,
      "metadata": {
        "colab": {
          "base_uri": "https://localhost:8080/"
        },
        "id": "T2iMPoIOkv9z",
        "outputId": "c6093f15-ab27-41fb-c4e6-4f2cfa39cc7c"
      },
      "outputs": [
        {
          "output_type": "execute_result",
          "data": {
            "text/plain": [
              "[11, 13, 17]"
            ]
          },
          "metadata": {},
          "execution_count": 46
        }
      ],
      "source": [
        "L[-3:]"
      ]
    },
    {
      "cell_type": "code",
      "execution_count": null,
      "metadata": {
        "colab": {
          "base_uri": "https://localhost:8080/"
        },
        "id": "wh-_L0Vfkv9z",
        "outputId": "1e5d9daa-b40e-4145-ddfe-f7a13c48ce96"
      },
      "outputs": [
        {
          "output_type": "execute_result",
          "data": {
            "text/plain": [
              "[1, 5, 11, 17]"
            ]
          },
          "metadata": {},
          "execution_count": 47
        }
      ],
      "source": [
        "L[::2]  # equivalent to L[0:len(L):2]"
      ]
    },
    {
      "cell_type": "markdown",
      "metadata": {
        "id": "9B4H6bImkv90"
      },
      "source": [
        "Both indexing and slicing can be used to set elements as well as access them.\n",
        "The syntax is as you would expect:"
      ]
    },
    {
      "cell_type": "code",
      "execution_count": null,
      "metadata": {
        "colab": {
          "base_uri": "https://localhost:8080/"
        },
        "id": "ihtbS5btkv90",
        "outputId": "33995c44-c4f6-4de3-c6bc-a3d8aa82ae4f"
      },
      "outputs": [
        {
          "output_type": "stream",
          "name": "stdout",
          "text": [
            "[100, 3, 5, 7, 11, 13, 17]\n"
          ]
        }
      ],
      "source": [
        "L[0] = 100\n",
        "print(L)"
      ]
    },
    {
      "cell_type": "code",
      "execution_count": null,
      "metadata": {
        "colab": {
          "base_uri": "https://localhost:8080/"
        },
        "id": "FV5IObinkv90",
        "outputId": "94ce767d-598e-4f2b-a30d-f5ce86098bcd"
      },
      "outputs": [
        {
          "output_type": "stream",
          "name": "stdout",
          "text": [
            "[100, 55, 56, 7, 11, 13, 17]\n"
          ]
        }
      ],
      "source": [
        "L[1:3] = [55, 56]\n",
        "print(L)"
      ]
    },
    {
      "cell_type": "markdown",
      "metadata": {
        "id": "cWM_9FZFkv90"
      },
      "source": [
        "A very similar slicing syntax is also used in many data science-oriented packages, including NumPy and Pandas (mentioned in the introduction).\n",
        "\n",
        "Now that we have seen Python lists and how to access elements in ordered compound types, let's take a look at the other three standard compound data types mentioned earlier."
      ]
    },
    {
      "cell_type": "markdown",
      "metadata": {
        "id": "oFhf1B36kv90"
      },
      "source": [
        "## Tuples\n",
        "Tuples are in many ways similar to lists, but they are defined with parentheses rather than square brackets:"
      ]
    },
    {
      "cell_type": "code",
      "execution_count": null,
      "metadata": {
        "id": "V8VC2Ofgkv90"
      },
      "outputs": [],
      "source": [
        "t = (1, 2, 3)"
      ]
    },
    {
      "cell_type": "markdown",
      "metadata": {
        "id": "xeTtmqYukv90"
      },
      "source": [
        "Like the lists discussed before, tuples have a length, and individual elements can be extracted using square-bracket indexing:"
      ]
    },
    {
      "cell_type": "code",
      "execution_count": null,
      "metadata": {
        "colab": {
          "base_uri": "https://localhost:8080/"
        },
        "id": "bAfUK9XNkv90",
        "outputId": "50421c80-6984-4679-8d47-9a53999a9e3f"
      },
      "outputs": [
        {
          "output_type": "execute_result",
          "data": {
            "text/plain": [
              "3"
            ]
          },
          "metadata": {},
          "execution_count": 51
        }
      ],
      "source": [
        "len(t)"
      ]
    },
    {
      "cell_type": "code",
      "execution_count": null,
      "metadata": {
        "colab": {
          "base_uri": "https://localhost:8080/"
        },
        "id": "lrH4MiDukv90",
        "outputId": "762f7efa-3943-44a6-beb1-9ebd3d358176"
      },
      "outputs": [
        {
          "output_type": "execute_result",
          "data": {
            "text/plain": [
              "1"
            ]
          },
          "metadata": {},
          "execution_count": 52
        }
      ],
      "source": [
        "t[0]"
      ]
    },
    {
      "cell_type": "markdown",
      "metadata": {
        "id": "b-S0-ICLkv91"
      },
      "source": [
        "The main distinguishing feature of tuples is that they are *immutable*: this means that once they are created, their size and contents cannot be changed:"
      ]
    },
    {
      "cell_type": "code",
      "execution_count": null,
      "metadata": {
        "colab": {
          "base_uri": "https://localhost:8080/",
          "height": 146
        },
        "id": "ujDNmoDAkv91",
        "outputId": "ef4596f9-de6b-48f3-8a13-9e94cfd46a34"
      },
      "outputs": [
        {
          "output_type": "error",
          "ename": "TypeError",
          "evalue": "'tuple' object does not support item assignment",
          "traceback": [
            "\u001b[0;31m---------------------------------------------------------------------------\u001b[0m",
            "\u001b[0;31mTypeError\u001b[0m                                 Traceback (most recent call last)",
            "\u001b[0;32m<ipython-input-53-87b0f225887f>\u001b[0m in \u001b[0;36m<cell line: 1>\u001b[0;34m()\u001b[0m\n\u001b[0;32m----> 1\u001b[0;31m \u001b[0mt\u001b[0m\u001b[0;34m[\u001b[0m\u001b[0;36m1\u001b[0m\u001b[0;34m]\u001b[0m \u001b[0;34m=\u001b[0m \u001b[0;36m4\u001b[0m\u001b[0;34m\u001b[0m\u001b[0;34m\u001b[0m\u001b[0m\n\u001b[0m",
            "\u001b[0;31mTypeError\u001b[0m: 'tuple' object does not support item assignment"
          ]
        }
      ],
      "source": [
        "t[1] = 4"
      ]
    },
    {
      "cell_type": "code",
      "execution_count": null,
      "metadata": {
        "colab": {
          "base_uri": "https://localhost:8080/",
          "height": 146
        },
        "id": "zV7Z9WrWkv91",
        "outputId": "8ebd6347-0240-4268-b7b9-9d019c8ce31a"
      },
      "outputs": [
        {
          "output_type": "error",
          "ename": "AttributeError",
          "evalue": "'tuple' object has no attribute 'append'",
          "traceback": [
            "\u001b[0;31m---------------------------------------------------------------------------\u001b[0m",
            "\u001b[0;31mAttributeError\u001b[0m                            Traceback (most recent call last)",
            "\u001b[0;32m<ipython-input-54-ada7ed8a579e>\u001b[0m in \u001b[0;36m<cell line: 1>\u001b[0;34m()\u001b[0m\n\u001b[0;32m----> 1\u001b[0;31m \u001b[0mt\u001b[0m\u001b[0;34m.\u001b[0m\u001b[0mappend\u001b[0m\u001b[0;34m(\u001b[0m\u001b[0;36m4\u001b[0m\u001b[0;34m)\u001b[0m\u001b[0;34m\u001b[0m\u001b[0;34m\u001b[0m\u001b[0m\n\u001b[0m",
            "\u001b[0;31mAttributeError\u001b[0m: 'tuple' object has no attribute 'append'"
          ]
        }
      ],
      "source": [
        "t.append(4)"
      ]
    },
    {
      "cell_type": "markdown",
      "metadata": {
        "id": "dzkzTqgckv91"
      },
      "source": [
        "## Dictionaries\n",
        "Dictionaries are extremely flexible mappings of keys to values, and form the basis of much of Python's internal implementation.\n",
        "They can be created via a comma-separated list of ``key:value`` pairs within curly braces:"
      ]
    },
    {
      "cell_type": "code",
      "execution_count": null,
      "metadata": {
        "id": "Ana0AOqCkv91"
      },
      "outputs": [],
      "source": [
        "numbers = {'one':1, 'two':2, 'three':3}"
      ]
    },
    {
      "cell_type": "markdown",
      "metadata": {
        "id": "883Aa3U2kv91"
      },
      "source": [
        "Items are accessed and set via the indexing syntax used for lists and tuples, except here the index is not a zero-based order but valid key in the dictionary:"
      ]
    },
    {
      "cell_type": "code",
      "execution_count": null,
      "metadata": {
        "colab": {
          "base_uri": "https://localhost:8080/"
        },
        "id": "0Vgqowk7kv91",
        "outputId": "3c6cdc60-a5f8-447d-a788-e921319d45d7"
      },
      "outputs": [
        {
          "output_type": "execute_result",
          "data": {
            "text/plain": [
              "2"
            ]
          },
          "metadata": {},
          "execution_count": 57
        }
      ],
      "source": [
        "# Access a value via the key\n",
        "numbers['two']"
      ]
    },
    {
      "cell_type": "markdown",
      "metadata": {
        "id": "XWs1EPVnkv91"
      },
      "source": [
        "New items can be added to the dictionary using indexing as well:"
      ]
    },
    {
      "cell_type": "code",
      "execution_count": null,
      "metadata": {
        "colab": {
          "base_uri": "https://localhost:8080/"
        },
        "id": "5vSWu8lHkv91",
        "outputId": "0e573095-95b9-4285-d400-cc8906b595b9"
      },
      "outputs": [
        {
          "output_type": "stream",
          "name": "stdout",
          "text": [
            "{'one': 1, 'two': 2, 'three': 3, 'ninety': 90}\n"
          ]
        }
      ],
      "source": [
        "# Set a new key:value pair\n",
        "numbers['ninety'] = 90\n",
        "print(numbers)"
      ]
    },
    {
      "cell_type": "markdown",
      "metadata": {
        "id": "GxR5vG23kv91"
      },
      "source": [
        "Keep in mind that dictionaries do not maintain any sense of order for the input parameters; this is by design.\n",
        "This lack of ordering allows dictionaries to be implemented very efficiently, so that random element access is very fast, regardless of the size of the dictionary (if you're curious how this works, read about the concept of a *hash table*).\n",
        "The [python documentation](https://docs.python.org/3/library/stdtypes.html) has a complete list of the methods available for dictionaries."
      ]
    },
    {
      "cell_type": "markdown",
      "metadata": {
        "id": "heyi7IrOkv92"
      },
      "source": [
        "## Sets\n",
        "\n",
        "The fourth basic collection is the set, which contains unordered collections of unique items.\n",
        "They are defined much like lists and tuples, except they use the curly brackets of dictionaries:"
      ]
    },
    {
      "cell_type": "code",
      "execution_count": null,
      "metadata": {
        "id": "HiuBjHwBkv92"
      },
      "outputs": [],
      "source": [
        "primes = {2, 3, 5, 7}\n",
        "odds = {1, 3, 5, 7, 9}"
      ]
    },
    {
      "cell_type": "markdown",
      "metadata": {
        "id": "Ce-DjETgkv92"
      },
      "source": [
        "If you're familiar with the mathematics of sets, you'll be familiar with operations like the union, intersection, difference, symmetric difference, and others.\n",
        "Python's sets have all of these operations built-in, via methods or operators.\n",
        "For each, we'll show the two equivalent methods:"
      ]
    },
    {
      "cell_type": "code",
      "execution_count": null,
      "metadata": {
        "colab": {
          "base_uri": "https://localhost:8080/"
        },
        "id": "tBv-aDiUkv92",
        "outputId": "1effb68b-ac0b-434b-e3ec-a2fc965e6fc7"
      },
      "outputs": [
        {
          "output_type": "execute_result",
          "data": {
            "text/plain": [
              "{1, 2, 3, 5, 7, 9}"
            ]
          },
          "metadata": {},
          "execution_count": 60
        }
      ],
      "source": [
        "# union: items appearing in either\n",
        "primes | odds      # with an operator\n",
        "primes.union(odds) # equivalently with a method"
      ]
    },
    {
      "cell_type": "code",
      "execution_count": null,
      "metadata": {
        "colab": {
          "base_uri": "https://localhost:8080/"
        },
        "id": "4LBmSMyIkv92",
        "outputId": "568fb82c-2d9f-4776-e15b-5cc983a2cf35"
      },
      "outputs": [
        {
          "output_type": "execute_result",
          "data": {
            "text/plain": [
              "{3, 5, 7}"
            ]
          },
          "metadata": {},
          "execution_count": 61
        }
      ],
      "source": [
        "# intersection: items appearing in both\n",
        "primes & odds             # with an operator\n",
        "primes.intersection(odds) # equivalently with a method"
      ]
    },
    {
      "cell_type": "code",
      "execution_count": null,
      "metadata": {
        "colab": {
          "base_uri": "https://localhost:8080/"
        },
        "id": "Epv9WD4Fkv92",
        "outputId": "0a1c3523-39e2-4649-bb41-681998461dcc"
      },
      "outputs": [
        {
          "output_type": "execute_result",
          "data": {
            "text/plain": [
              "{2}"
            ]
          },
          "metadata": {},
          "execution_count": 62
        }
      ],
      "source": [
        "# difference: items in primes but not in odds\n",
        "primes - odds           # with an operator\n",
        "primes.difference(odds) # equivalently with a method"
      ]
    },
    {
      "cell_type": "markdown",
      "metadata": {
        "id": "HHqpEFySkv92"
      },
      "source": [
        "Many more set methods and operations are available.\n",
        "You've probably already guessed what I'll say next: refer to Python's [online documentation](https://docs.python.org/3/library/stdtypes.html) for a complete reference."
      ]
    },
    {
      "cell_type": "code",
      "execution_count": null,
      "metadata": {
        "id": "gjOwRVYTkv92"
      },
      "outputs": [],
      "source": []
    }
  ],
  "metadata": {
    "anaconda-cloud": {},
    "kernelspec": {
      "display_name": "Python 3",
      "language": "python",
      "name": "python3"
    },
    "language_info": {
      "codemirror_mode": {
        "name": "ipython",
        "version": 3
      },
      "file_extension": ".py",
      "mimetype": "text/x-python",
      "name": "python",
      "nbconvert_exporter": "python",
      "pygments_lexer": "ipython3",
      "version": "3.7.4"
    },
    "colab": {
      "provenance": [],
      "include_colab_link": true
    }
  },
  "nbformat": 4,
  "nbformat_minor": 0
}