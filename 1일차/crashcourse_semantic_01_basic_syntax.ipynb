{
  "cells": [
    {
      "cell_type": "markdown",
      "metadata": {
        "id": "view-in-github",
        "colab_type": "text"
      },
      "source": [
        "<a href=\"https://colab.research.google.com/github/ancestor9/Data-Analyst-with-Gemini-/blob/main/1%EC%9D%BC%EC%B0%A8/crashcourse_semantic_01_basic_syntax.ipynb\" target=\"_parent\"><img src=\"https://colab.research.google.com/assets/colab-badge.svg\" alt=\"Open In Colab\"/></a>"
      ]
    },
    {
      "cell_type": "markdown",
      "metadata": {
        "id": "h57R6lSJkH8y"
      },
      "source": [
        "# <font color='red'> I. A Crash course of Python Language Syntax"
      ]
    },
    {
      "cell_type": "markdown",
      "metadata": {
        "id": "FnQgrOn7kH81"
      },
      "source": [
        "*This notebook contains an excerpt from the [Whirlwind Tour of Python](http://www.oreilly.com/programming/free/a-whirlwind-tour-of-python.csp) by Jake VanderPlas; the content is available [on GitHub](https://github.com/jakevdp/WhirlwindTourOfPython).*"
      ]
    },
    {
      "cell_type": "markdown",
      "metadata": {
        "id": "gLX4_55GkH82"
      },
      "source": [
        "# 1. How to Run Python Code"
      ]
    },
    {
      "cell_type": "markdown",
      "metadata": {
        "id": "5IndewIGkH83"
      },
      "source": [
        "- A flexible and dynamic language\n",
        "- *interpreted* rather than *compiled*. It means that it is executed line by line"
      ]
    },
    {
      "cell_type": "code",
      "execution_count": null,
      "metadata": {
        "colab": {
          "base_uri": "https://localhost:8080/"
        },
        "id": "T4KG9PRfkH84",
        "outputId": "6170685f-4082-4745-bb03-1584c6adf489"
      },
      "outputs": [
        {
          "output_type": "execute_result",
          "data": {
            "text/plain": [
              "2"
            ]
          },
          "metadata": {},
          "execution_count": 1
        }
      ],
      "source": [
        "1+1"
      ]
    },
    {
      "cell_type": "code",
      "execution_count": null,
      "metadata": {
        "colab": {
          "base_uri": "https://localhost:8080/"
        },
        "id": "0OPyiW-PkH85",
        "outputId": "9687df35-46f4-4a62-ce53-11ec9f574dfc"
      },
      "outputs": [
        {
          "output_type": "execute_result",
          "data": {
            "text/plain": [
              "15"
            ]
          },
          "metadata": {},
          "execution_count": 2
        }
      ],
      "source": [
        "x=5\n",
        "x*3"
      ]
    },
    {
      "cell_type": "code",
      "execution_count": null,
      "metadata": {
        "scrolled": true,
        "colab": {
          "base_uri": "https://localhost:8080/"
        },
        "id": "38WiDnjjkH85",
        "outputId": "c088548d-66cc-414c-fea8-aa7efb05484c"
      },
      "outputs": [
        {
          "output_type": "execute_result",
          "data": {
            "text/plain": [
              "5"
            ]
          },
          "metadata": {},
          "execution_count": 3
        }
      ],
      "source": [
        "x"
      ]
    },
    {
      "cell_type": "markdown",
      "metadata": {
        "id": "k_H2e7_ykH86"
      },
      "source": [
        "# 2. A Quick Tour of Python Language Syntax"
      ]
    },
    {
      "cell_type": "markdown",
      "metadata": {
        "id": "GCUDLjuZkH86"
      },
      "source": [
        "## how to terminates a Long Statement"
      ]
    },
    {
      "cell_type": "code",
      "execution_count": null,
      "metadata": {
        "colab": {
          "base_uri": "https://localhost:8080/"
        },
        "id": "2goUjBjPkH86",
        "outputId": "d969c36e-365f-4738-baed-f4909381b09b"
      },
      "outputs": [
        {
          "output_type": "execute_result",
          "data": {
            "text/plain": [
              "36"
            ]
          },
          "metadata": {},
          "execution_count": 4
        }
      ],
      "source": [
        "x = 1 + 2 + 3 + 4 +\\\n",
        "    5 + 6 + 7 + 8\n",
        "x"
      ]
    },
    {
      "cell_type": "code",
      "execution_count": null,
      "metadata": {
        "colab": {
          "base_uri": "https://localhost:8080/"
        },
        "id": "7KbTi3m1kH87",
        "outputId": "b6b5505a-372f-41a0-eb7e-c984bda995c5"
      },
      "outputs": [
        {
          "output_type": "execute_result",
          "data": {
            "text/plain": [
              "36"
            ]
          },
          "metadata": {},
          "execution_count": 5
        }
      ],
      "source": [
        "x = (\n",
        "    1 + 2 + 3\n",
        "     + 4 +\n",
        "     5 + 6 + 7 +\n",
        "     8\n",
        "    )\n",
        "x"
      ]
    },
    {
      "cell_type": "markdown",
      "metadata": {
        "id": "3aHeUOc8kH87"
      },
      "source": [
        "## Whitespace *Within* Lines Does Not Matter"
      ]
    },
    {
      "cell_type": "code",
      "execution_count": null,
      "metadata": {
        "id": "ceuKVIrGkH87"
      },
      "outputs": [],
      "source": [
        "x=1+2\n",
        "x = 1 + 2\n",
        "x             =        1    +                2"
      ]
    },
    {
      "cell_type": "markdown",
      "metadata": {
        "id": "eJCCv14zkH87"
      },
      "source": [
        "## Semicolon Can Optionally Terminate a Statement"
      ]
    },
    {
      "cell_type": "code",
      "execution_count": null,
      "metadata": {
        "colab": {
          "base_uri": "https://localhost:8080/"
        },
        "id": "Jm5_cznHkH87",
        "outputId": "85ac122e-2b92-4c42-8125-49e219e4dc1a"
      },
      "outputs": [
        {
          "output_type": "execute_result",
          "data": {
            "text/plain": [
              "9"
            ]
          },
          "metadata": {},
          "execution_count": 7
        }
      ],
      "source": [
        "x=4;y=5\n",
        "x+y"
      ]
    },
    {
      "cell_type": "markdown",
      "metadata": {
        "id": "6Gy4B6PkkH87"
      },
      "source": [
        "## Indentation: Whitespace Matters!"
      ]
    },
    {
      "cell_type": "code",
      "execution_count": null,
      "metadata": {
        "colab": {
          "base_uri": "https://localhost:8080/",
          "height": 110
        },
        "id": "OoIeBv_nkH88",
        "outputId": "6231c8b7-6764-4755-9fd5-13037ccdd340"
      },
      "outputs": [
        {
          "output_type": "error",
          "ename": "IndentationError",
          "evalue": "unexpected indent (<ipython-input-8-7f8589d53d58>, line 2)",
          "traceback": [
            "\u001b[0;36m  File \u001b[0;32m\"<ipython-input-8-7f8589d53d58>\"\u001b[0;36m, line \u001b[0;32m2\u001b[0m\n\u001b[0;31m    x\u001b[0m\n\u001b[0m    ^\u001b[0m\n\u001b[0;31mIndentationError\u001b[0m\u001b[0;31m:\u001b[0m unexpected indent\n"
          ]
        }
      ],
      "source": [
        "   x=5\n",
        "    x"
      ]
    },
    {
      "cell_type": "code",
      "execution_count": null,
      "metadata": {
        "scrolled": true,
        "colab": {
          "base_uri": "https://localhost:8080/"
        },
        "id": "RvnVrpNukH88",
        "outputId": "26f59fce-b0c7-4d8f-c621-194ac1997ea2"
      },
      "outputs": [
        {
          "output_type": "stream",
          "name": "stdout",
          "text": [
            "10\n",
            "20\n",
            "30\n"
          ]
        }
      ],
      "source": [
        "x = [1, 2, 3]\n",
        "for i in x:\n",
        "    print(i*10)"
      ]
    },
    {
      "cell_type": "markdown",
      "metadata": {
        "id": "RtG6sJu4kH88"
      },
      "source": [
        "## Parentheses Are for Grouping or Calling\n",
        "Sometimes it can be useful to put multiple statements on a single line."
      ]
    },
    {
      "cell_type": "code",
      "execution_count": null,
      "metadata": {
        "colab": {
          "base_uri": "https://localhost:8080/"
        },
        "id": "UXUK6-ShkH88",
        "outputId": "f60c12ed-4621-4753-b5e3-443b47646680"
      },
      "outputs": [
        {
          "output_type": "execute_result",
          "data": {
            "text/plain": [
              "14"
            ]
          },
          "metadata": {},
          "execution_count": 10
        }
      ],
      "source": [
        "2 * (3 + 4)"
      ]
    },
    {
      "cell_type": "markdown",
      "metadata": {
        "id": "5kcXXUcXkH88"
      },
      "source": [
        "They can also be used to indicate that a function is being called. In the next snippet, the print() function is used to display the contents of a variable (see the sidebar). The function call is indicated by a pair of opening and closing parentheses, with the arguments to the function contained within:"
      ]
    },
    {
      "cell_type": "code",
      "execution_count": null,
      "metadata": {
        "colab": {
          "base_uri": "https://localhost:8080/"
        },
        "id": "0ZaW1sB1kH88",
        "outputId": "d9e0b62f-ebd5-4351-f2e9-d2fdc14fff28"
      },
      "outputs": [
        {
          "output_type": "stream",
          "name": "stdout",
          "text": [
            "first value: [1, 2, 3]\n"
          ]
        }
      ],
      "source": [
        "print('first value:', x)"
      ]
    },
    {
      "cell_type": "markdown",
      "metadata": {
        "id": "RD-75MiJkH89"
      },
      "source": [
        "# 3. Basic Python Semantics: Variables and Objects"
      ]
    },
    {
      "cell_type": "markdown",
      "metadata": {
        "id": "miRgmcNGkH89"
      },
      "source": [
        "## Python Variables Are Pointers\n",
        "Assigning variables in Python is as easy as putting a variable name to the left of the equals (``=``) sign:\n",
        "\n",
        "```python\n",
        "# assign 4 to the variable x\n",
        "x = 4\n",
        "```\n",
        "\n",
        "This may seem straightforward, but if you have the wrong mental model of what this operation does, the way Python works may seem confusing."
      ]
    },
    {
      "cell_type": "code",
      "execution_count": null,
      "metadata": {
        "id": "z2rkCnLCkH89"
      },
      "outputs": [],
      "source": [
        "x = 1         # x is an integer\n",
        "x = 'hello'   # now x is a string\n",
        "x = [1, 2, 3] # now x is a list"
      ]
    },
    {
      "cell_type": "code",
      "execution_count": null,
      "metadata": {
        "colab": {
          "base_uri": "https://localhost:8080/"
        },
        "id": "F-drDayzkH89",
        "outputId": "15716df7-f899-4021-f0b5-7cd2a52382f1"
      },
      "outputs": [
        {
          "output_type": "execute_result",
          "data": {
            "text/plain": [
              "133387963922688"
            ]
          },
          "metadata": {},
          "execution_count": 13
        }
      ],
      "source": [
        "id(x) # 메모리 주소에 '1'값이 할당"
      ]
    },
    {
      "cell_type": "code",
      "execution_count": null,
      "metadata": {
        "colab": {
          "base_uri": "https://localhost:8080/"
        },
        "id": "O_3rfE5wkH89",
        "outputId": "f80b3a58-41e2-44d0-ced7-78ba46646a54"
      },
      "outputs": [
        {
          "output_type": "stream",
          "name": "stdout",
          "text": [
            "x = 15\n",
            "y = 10\n"
          ]
        }
      ],
      "source": [
        "x = 10\n",
        "y = x\n",
        "x += 5  # add 5 to x's value, and assign it to x\n",
        "print(\"x =\", x)\n",
        "print(\"y =\", y)"
      ]
    },
    {
      "cell_type": "markdown",
      "metadata": {
        "id": "bSK-7I17kH89"
      },
      "source": [
        "## Everything Is an Object\n",
        "\n",
        "Python is an object-oriented programming language, and in Python everything is an object.\n",
        "\n",
        "Let's flesh-out what this means. Earlier we saw that variables are simply pointers, and the variable names themselves have no attached type information.\n",
        "This leads some to claim erroneously that Python is a type-free language. But this is not the case!\n",
        "Consider the following:"
      ]
    },
    {
      "cell_type": "code",
      "execution_count": null,
      "metadata": {
        "colab": {
          "base_uri": "https://localhost:8080/"
        },
        "id": "sygRpchGkH8-",
        "outputId": "96664424-49bc-4d31-f06b-1aa348a099ff"
      },
      "outputs": [
        {
          "output_type": "stream",
          "name": "stdout",
          "text": [
            "<class 'int'>\n"
          ]
        }
      ],
      "source": [
        "x = 4\n",
        "print(type(x))"
      ]
    },
    {
      "cell_type": "code",
      "execution_count": null,
      "metadata": {
        "colab": {
          "base_uri": "https://localhost:8080/"
        },
        "id": "KrVVd7FckH8-",
        "outputId": "5953a5a7-ffbf-4ba3-b197-d801f99d54bc"
      },
      "outputs": [
        {
          "output_type": "execute_result",
          "data": {
            "text/plain": [
              "float"
            ]
          },
          "metadata": {},
          "execution_count": 16
        }
      ],
      "source": [
        "x = 3.14159\n",
        "type(x)"
      ]
    },
    {
      "cell_type": "code",
      "execution_count": null,
      "metadata": {
        "colab": {
          "base_uri": "https://localhost:8080/"
        },
        "id": "1X7BivSfkH8-",
        "outputId": "fe05950a-e837-43a2-ac20-4b7284d257bc"
      },
      "outputs": [
        {
          "output_type": "execute_result",
          "data": {
            "text/plain": [
              "str"
            ]
          },
          "metadata": {},
          "execution_count": 17
        }
      ],
      "source": [
        "x = 'hello'\n",
        "type(x)"
      ]
    },
    {
      "cell_type": "markdown",
      "metadata": {
        "id": "zWNfh3eokH8-"
      },
      "source": [
        "Python has types; however, the types are linked not to the variable names but to the objects themselves.\n",
        "\n",
        "In object-oriented programming languages like Python, an object is an entity that contains data along with associated metadata and/or functionality. In Python everything is an object, which means every entity has some metadata (called attributes) and associated functionality (called methods). These attributes and methods are accessed via the dot syntax.\n",
        "\n",
        "For example, before we saw that lists have an append method, which adds an item to the list, and is accessed via the dot (\".\") syntax:"
      ]
    },
    {
      "cell_type": "code",
      "execution_count": null,
      "metadata": {
        "id": "DUwSn9HqkH8-"
      },
      "outputs": [],
      "source": [
        "x =4.5"
      ]
    },
    {
      "cell_type": "code",
      "execution_count": null,
      "metadata": {
        "colab": {
          "base_uri": "https://localhost:8080/"
        },
        "id": "dc6wfwKgkH8-",
        "outputId": "5ffdf8a5-917f-4d86-928d-50505f1c89f9"
      },
      "outputs": [
        {
          "output_type": "execute_result",
          "data": {
            "text/plain": [
              "False"
            ]
          },
          "metadata": {},
          "execution_count": 20
        }
      ],
      "source": [
        "x.is_integer()"
      ]
    },
    {
      "cell_type": "code",
      "execution_count": null,
      "metadata": {
        "colab": {
          "base_uri": "https://localhost:8080/"
        },
        "id": "iox0VKGwkH8-",
        "outputId": "98ce4856-4a28-402e-d1a4-366edbf8a172"
      },
      "outputs": [
        {
          "output_type": "execute_result",
          "data": {
            "text/plain": [
              "builtin_function_or_method"
            ]
          },
          "metadata": {},
          "execution_count": 21
        }
      ],
      "source": [
        "type(x.is_integer)"
      ]
    },
    {
      "cell_type": "markdown",
      "metadata": {
        "id": "wOdDWrGSkH8-"
      },
      "source": [
        "- When we say that everything in Python is an object, we really mean that everything is an object – even the attributes and methods of objects are themselves objects with their own type information.\n",
        "\n",
        "- We'll find that the everything-is-object design choice of Python allows for some very convenient language constructs."
      ]
    },
    {
      "cell_type": "markdown",
      "metadata": {
        "id": "N-qeJemmkH8_"
      },
      "source": [
        "# 4. Basic Python Semantics: Operators"
      ]
    },
    {
      "cell_type": "markdown",
      "metadata": {
        "id": "75tXCeQrkH8_"
      },
      "source": [
        "## Arithmetic Operations\n",
        "Python implements seven basic binary arithmetic operators, two of which can double as unary operators.\n",
        "They are summarized in the following table:\n",
        "\n",
        "| Operator     | Name           | Description                                            |\n",
        "|--------------|----------------|--------------------------------------------------------|\n",
        "| ``a + b``    | Addition       | Sum of ``a`` and ``b``                                 |\n",
        "| ``a - b``    | Subtraction    | Difference of ``a`` and ``b``                          |\n",
        "| ``a * b``    | Multiplication | Product of ``a`` and ``b``                             |\n",
        "| ``a / b``    | True division  | Quotient of ``a`` and ``b``                            |\n",
        "| ``a // b``   | Floor division | Quotient of ``a`` and ``b``, removing fractional parts |\n",
        "| ``a % b``    | Modulus        | Integer remainder after division of ``a`` by ``b``     |\n",
        "| ``a ** b``   | Exponentiation | ``a`` raised to the power of ``b``                     |\n",
        "| ``-a``       | Negation       | The negative of ``a``                                  |\n",
        "| ``+a``       | Unary plus     | ``a`` unchanged (rarely used)                          |"
      ]
    },
    {
      "cell_type": "markdown",
      "metadata": {
        "id": "7yoiJt_OkH8_"
      },
      "source": [
        "## Comparison Operations\n",
        "In addition to the standard numerical operations, Python includes operators to perform bitwise logical operations on integers.\n",
        "These are much less commonly used than the standard arithmetic operations, but it's useful to know that they exist.\n",
        "\n",
        "| Operator     | Name            | Description                                 |\n",
        "|--------------|-----------------|---------------------------------------------|\n",
        "| ``a & b``    | AND     | both ``a`` and ``b``        |\n",
        "| <code>a &#124; b</code>| OR      | ``a`` or ``b`` or both      |\n",
        "| ``a ^ b``    | XOR     | ``a`` or ``b`` but not both |\n",
        "| ``~a``       | NOT     | Negation of ``a``                          |\n"
      ]
    },
    {
      "cell_type": "markdown",
      "metadata": {
        "id": "az7r3VXmkH9E"
      },
      "source": [
        "Another type of operation which can be very useful is comparison of different values.\n",
        "For this, Python implements standard comparison operators, which return Boolean values ``True`` and ``False``.\n",
        "The comparison operations are listed in the following table:\n",
        "\n",
        "| Operation     | Description                       || Operation     | Description                          |\n",
        "|---------------|-----------------------------------||---------------|--------------------------------------|\n",
        "| ``a == b``    | ``a`` equal to ``b``              || ``a != b``    | ``a`` not equal to ``b``             |\n",
        "| ``a < b``     | ``a`` less than ``b``             || ``a > b``     | ``a`` greater than ``b``             |\n",
        "| ``a <= b``    | ``a`` less than or equal to ``b`` || ``a >= b``    | ``a`` greater than or equal to ``b`` |"
      ]
    },
    {
      "cell_type": "code",
      "execution_count": null,
      "metadata": {
        "colab": {
          "base_uri": "https://localhost:8080/"
        },
        "id": "NqR9kpLWkH9E",
        "outputId": "dcd79964-0166-4036-b765-2f863d056f04"
      },
      "outputs": [
        {
          "output_type": "execute_result",
          "data": {
            "text/plain": [
              "True"
            ]
          },
          "metadata": {},
          "execution_count": 22
        }
      ],
      "source": [
        "# check if a is between 15 and 30\n",
        "a = 25\n",
        "15 < a < 30"
      ]
    },
    {
      "cell_type": "code",
      "execution_count": null,
      "metadata": {
        "colab": {
          "base_uri": "https://localhost:8080/"
        },
        "id": "Y4LnYoLykH9E",
        "outputId": "0cc90dc6-489e-442a-b2ed-2960ebbfea88"
      },
      "outputs": [
        {
          "output_type": "stream",
          "name": "stdout",
          "text": [
            "26\n"
          ]
        }
      ],
      "source": [
        "a = 24\n",
        "a += 2  # equivalent to a = a + 2\n",
        "print(a)"
      ]
    },
    {
      "cell_type": "code",
      "execution_count": null,
      "metadata": {
        "colab": {
          "base_uri": "https://localhost:8080/"
        },
        "id": "-xr8YT6ZkH9F",
        "outputId": "2f7e12f3-c4a1-4872-87e4-5b4ee6382ff0"
      },
      "outputs": [
        {
          "output_type": "execute_result",
          "data": {
            "text/plain": [
              "-3"
            ]
          },
          "metadata": {},
          "execution_count": 25
        }
      ],
      "source": [
        "~2"
      ]
    },
    {
      "cell_type": "markdown",
      "metadata": {
        "id": "T2QqPq0VkH9F"
      },
      "source": [
        "## Boolean Operations\n",
        "When working with Boolean values, Python provides operators to combine the values using the standard concepts of \"and\", \"or\", and \"not\".\n",
        "Predictably, these operators are expressed using the words ``and``, ``or``, and ``not``:"
      ]
    },
    {
      "cell_type": "code",
      "execution_count": null,
      "metadata": {
        "id": "e9-OKl5hkH9F"
      },
      "outputs": [],
      "source": [
        "x = 4\n",
        "(x < 6) and (x > 2)"
      ]
    },
    {
      "cell_type": "code",
      "execution_count": null,
      "metadata": {
        "id": "xKYHyFKfkH9F"
      },
      "outputs": [],
      "source": [
        "(x > 10) or (x % 2 == 0)"
      ]
    },
    {
      "cell_type": "markdown",
      "metadata": {
        "id": "0j0h_vkFkH9F"
      },
      "source": [
        "## Identity and Membership Operators\n",
        "\n",
        "Like ``and``, ``or``, and ``not``, Python also contains prose-like operators  to check for identity and membership.\n",
        "They are the following:\n",
        "\n",
        "| Operator      | Description                                       |\n",
        "|---------------|---------------------------------------------------|\n",
        "| ``a is b``    | True if ``a`` and ``b`` are identical objects     |\n",
        "| ``a is not b``| True if ``a`` and ``b`` are not identical objects |\n",
        "| ``a in b``    | True if ``a`` is a member of ``b``                |\n",
        "| ``a not in b``| True if ``a`` is not a member of ``b``            |"
      ]
    },
    {
      "cell_type": "markdown",
      "metadata": {
        "id": "0DBFfkPxkH9F"
      },
      "source": [
        "### Identity Operators: \"``is``\" and \"``is not``\"\n",
        "\n",
        "The identity operators, \"``is``\" and \"``is not``\" check for *object identity*.\n",
        "Object identity is different than equality, as we can see here:"
      ]
    },
    {
      "cell_type": "code",
      "execution_count": null,
      "metadata": {
        "id": "QY7WKntukH9F"
      },
      "outputs": [],
      "source": [
        "a = [1, 2, 3]\n",
        "b = [1, 2, 3]"
      ]
    },
    {
      "cell_type": "code",
      "execution_count": null,
      "metadata": {
        "colab": {
          "base_uri": "https://localhost:8080/"
        },
        "id": "wk23XLHCkH9F",
        "outputId": "e3addff8-a7a0-4056-b7d6-f311a62a8b3b"
      },
      "outputs": [
        {
          "output_type": "execute_result",
          "data": {
            "text/plain": [
              "True"
            ]
          },
          "metadata": {},
          "execution_count": 27
        }
      ],
      "source": [
        "a == b"
      ]
    },
    {
      "cell_type": "code",
      "execution_count": null,
      "metadata": {
        "colab": {
          "base_uri": "https://localhost:8080/"
        },
        "id": "4la_TgSRkH9F",
        "outputId": "e574651a-9394-4da7-f41e-b29e200e7f9a"
      },
      "outputs": [
        {
          "output_type": "execute_result",
          "data": {
            "text/plain": [
              "False"
            ]
          },
          "metadata": {},
          "execution_count": 28
        }
      ],
      "source": [
        "a is b"
      ]
    },
    {
      "cell_type": "code",
      "execution_count": null,
      "metadata": {
        "colab": {
          "base_uri": "https://localhost:8080/"
        },
        "id": "xC6IE9lSkH9G",
        "outputId": "effc08e4-8d6e-4776-e423-fd61832147e2"
      },
      "outputs": [
        {
          "output_type": "execute_result",
          "data": {
            "text/plain": [
              "True"
            ]
          },
          "metadata": {},
          "execution_count": 29
        }
      ],
      "source": [
        "a is not b"
      ]
    },
    {
      "cell_type": "code",
      "execution_count": null,
      "metadata": {
        "colab": {
          "base_uri": "https://localhost:8080/"
        },
        "id": "XdkDRdRgkH9G",
        "outputId": "c098d3e5-a5d8-41b1-fb8b-904479be279d"
      },
      "outputs": [
        {
          "output_type": "execute_result",
          "data": {
            "text/plain": [
              "True"
            ]
          },
          "metadata": {},
          "execution_count": 30
        }
      ],
      "source": [
        "a = [1, 2, 3]\n",
        "b = a\n",
        "a is b"
      ]
    },
    {
      "cell_type": "markdown",
      "metadata": {
        "id": "u01yUjNokH9G"
      },
      "source": [
        "### Membership operators\n",
        "Membership operators check for membership within compound objects."
      ]
    },
    {
      "cell_type": "code",
      "execution_count": null,
      "metadata": {
        "colab": {
          "base_uri": "https://localhost:8080/"
        },
        "id": "JG-vZcPfkH9G",
        "outputId": "bc59a215-b8a2-4d47-d5e3-998abe463f66"
      },
      "outputs": [
        {
          "output_type": "execute_result",
          "data": {
            "text/plain": [
              "True"
            ]
          },
          "metadata": {},
          "execution_count": 31
        }
      ],
      "source": [
        "1 in [1, 2, 3]"
      ]
    },
    {
      "cell_type": "code",
      "execution_count": null,
      "metadata": {
        "colab": {
          "base_uri": "https://localhost:8080/"
        },
        "id": "w4-yEvrNkH9G",
        "outputId": "d0654f81-a802-4e08-a802-8c553371eb07"
      },
      "outputs": [
        {
          "output_type": "execute_result",
          "data": {
            "text/plain": [
              "True"
            ]
          },
          "metadata": {},
          "execution_count": 32
        }
      ],
      "source": [
        "5 not in [1,2,3]"
      ]
    },
    {
      "cell_type": "code",
      "source": [],
      "metadata": {
        "id": "f_emdZ2UksjU"
      },
      "execution_count": null,
      "outputs": []
    }
  ],
  "metadata": {
    "anaconda-cloud": {},
    "kernelspec": {
      "display_name": "Python 3",
      "language": "python",
      "name": "python3"
    },
    "language_info": {
      "codemirror_mode": {
        "name": "ipython",
        "version": 3
      },
      "file_extension": ".py",
      "mimetype": "text/x-python",
      "name": "python",
      "nbconvert_exporter": "python",
      "pygments_lexer": "ipython3",
      "version": "3.7.4"
    },
    "colab": {
      "provenance": [],
      "include_colab_link": true
    }
  },
  "nbformat": 4,
  "nbformat_minor": 0
}