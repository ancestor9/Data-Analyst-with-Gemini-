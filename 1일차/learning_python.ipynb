{
  "nbformat": 4,
  "nbformat_minor": 0,
  "metadata": {
    "colab": {
      "provenance": [],
      "authorship_tag": "ABX9TyPUPCHQWdMm3+RZdczdXlN1",
      "include_colab_link": true
    },
    "kernelspec": {
      "name": "python3",
      "display_name": "Python 3"
    },
    "language_info": {
      "name": "python"
    }
  },
  "cells": [
    {
      "cell_type": "markdown",
      "metadata": {
        "id": "view-in-github",
        "colab_type": "text"
      },
      "source": [
        "<a href=\"https://colab.research.google.com/github/ancestor9/Data-Analyst-with-Gemini-/blob/main/1%EC%9D%BC%EC%B0%A8/learning_python.ipynb\" target=\"_parent\"><img src=\"https://colab.research.google.com/assets/colab-badge.svg\" alt=\"Open In Colab\"/></a>"
      ]
    },
    {
      "cell_type": "markdown",
      "source": [
        "# **1. What is Big Data?**\n",
        "\n",
        "<img src ='https://image.slidesharecdn.com/amcham-big-data-hpc-200512-low-200513184135/75/big-data-and-high-performance-computing-4-2048.jpg?cb=1669423286'>\n",
        "\n",
        "<img src = 'https://image.slidesharecdn.com/amcham-big-data-hpc-200512-low-200513184135/75/big-data-and-high-performance-computing-5-2048.jpg?cb=1669423286'>"
      ],
      "metadata": {
        "id": "5DuNH3PcQUAC"
      }
    },
    {
      "cell_type": "markdown",
      "source": [
        "# **2. What is The three V of Big Data?**\n",
        "\n",
        "<img src='https://cdn.prod.website-files.com/64ae7b720bd1319095dd5582/66b36cfed790096a6bb2daf9_64b514acbaa2b7e02b6b75d9_three-Vs-of-big-data.jpeg'>"
      ],
      "metadata": {
        "id": "eIk1wJLGQjZ8"
      }
    },
    {
      "cell_type": "markdown",
      "source": [
        "# **3. DIKW Pyramid**\n",
        "\n",
        "<img src = 'https://cdn.goconqr.com/uploads/media/image/17322876/desktop_976d9df3-92c0-41a9-939b-2fe6a63e1dcb.png'>"
      ],
      "metadata": {
        "id": "QGXDwi_0T8wB"
      }
    },
    {
      "cell_type": "markdown",
      "source": [
        "| 계층              | 질문 예시              | 핵심 키워드      |\n",
        "| --------------- | ------------------ | ----------- |\n",
        "| **Data**        | 무슨 신호가 있었나?        | 사실(fact)    |\n",
        "| **Information** | 어떤 신호등이 빨간불인가?     | 의미(meaning) |\n",
        "| **Knowledge**   | 그 신호는 나에게 어떤 의미인가? | 맥락(context) |\n",
        "| **Wisdom**      | 나는 무엇을 해야 하는가?     | 행동(action)  |\n"
      ],
      "metadata": {
        "id": "20t9J2QC7_o1"
      }
    },
    {
      "cell_type": "markdown",
      "source": [
        "# **4. 당신은 이미 데이터분석가 !**\n",
        ">> ### **아주 어릴때 엄마와 아빠를 구분(classification)했다.**\n",
        "<img src='https://images.unsplash.com/photo-1583710457367-47de0ea21fef?w=500&auto=format&fit=crop&q=60&ixlib=rb-4.0.3&ixid=M3wxMjA3fDB8MHxzZWFyY2h8Mnx8YmFieSUyMG1vbXxlbnwwfHwwfHx8MA%3D%3D'>\n",
        "\n",
        ">> ### **아주 어릴때 일반적인 것과 아주 다른 것(Clustering)을 찾아낼 수있다.**\n",
        "<img src ='https://images.unsplash.com/photo-1536303100418-985cb308bb38?w=500&auto=format&fit=crop&q=60&ixlib=rb-4.0.3&ixid=M3wxMjA3fDB8MHxzZWFyY2h8MXx8b3V0bGllcnxlbnwwfHwwfHx8MA%3D%3D'>"
      ],
      "metadata": {
        "id": "tWHhu08kUyYI"
      }
    },
    {
      "cell_type": "markdown",
      "source": [
        "# **5. The Four Tyes of Data Analysis**\n",
        "\n",
        "<img src='https://almablog-media.s3.ap-south-1.amazonaws.com/Data_analysis_0ea8f061cf.png'>"
      ],
      "metadata": {
        "id": "QwopZ0T2XM8w"
      }
    },
    {
      "cell_type": "markdown",
      "source": [
        "## **6. 숫자와 문자는 컴퓨터가 어떻게 인지할까?**"
      ],
      "metadata": {
        "id": "bJv7ONRLWHHL"
      }
    },
    {
      "cell_type": "code",
      "source": [
        "for i in range(10):\n",
        "    print(i, id(i))"
      ],
      "metadata": {
        "colab": {
          "base_uri": "https://localhost:8080/"
        },
        "id": "LZ8oOW184VRK",
        "outputId": "57bba9e6-952c-486c-a14c-81a5caa4396a"
      },
      "execution_count": 5,
      "outputs": [
        {
          "output_type": "stream",
          "name": "stdout",
          "text": [
            "0 10757704\n",
            "1 10757736\n",
            "2 10757768\n",
            "3 10757800\n",
            "4 10757832\n",
            "5 10757864\n",
            "6 10757896\n",
            "7 10757928\n",
            "8 10757960\n",
            "9 10757992\n"
          ]
        }
      ]
    },
    {
      "cell_type": "code",
      "source": [
        "chr(0)"
      ],
      "metadata": {
        "id": "Eggc2mW3ZGKs",
        "colab": {
          "base_uri": "https://localhost:8080/",
          "height": 35
        },
        "outputId": "e3a489c2-4aae-4903-a4c9-096678b12661"
      },
      "execution_count": 7,
      "outputs": [
        {
          "output_type": "execute_result",
          "data": {
            "text/plain": [
              "'\\x00'"
            ],
            "application/vnd.google.colaboratory.intrinsic+json": {
              "type": "string"
            }
          },
          "metadata": {},
          "execution_count": 7
        }
      ]
    },
    {
      "cell_type": "code",
      "source": [
        "chr(1)"
      ],
      "metadata": {
        "colab": {
          "base_uri": "https://localhost:8080/",
          "height": 35
        },
        "id": "QjXpngXIJDfQ",
        "outputId": "331844ec-f076-4108-d8c0-60facd89101a"
      },
      "execution_count": 8,
      "outputs": [
        {
          "output_type": "execute_result",
          "data": {
            "text/plain": [
              "'\\x01'"
            ],
            "application/vnd.google.colaboratory.intrinsic+json": {
              "type": "string"
            }
          },
          "metadata": {},
          "execution_count": 8
        }
      ]
    },
    {
      "cell_type": "code",
      "source": [
        "chr(11)"
      ],
      "metadata": {
        "colab": {
          "base_uri": "https://localhost:8080/",
          "height": 35
        },
        "id": "YBilBI5DJHHI",
        "outputId": "de5789ee-28e2-469b-f4c8-5a311de69ee7"
      },
      "execution_count": 9,
      "outputs": [
        {
          "output_type": "execute_result",
          "data": {
            "text/plain": [
              "'\\x0b'"
            ],
            "application/vnd.google.colaboratory.intrinsic+json": {
              "type": "string"
            }
          },
          "metadata": {},
          "execution_count": 9
        }
      ]
    },
    {
      "cell_type": "code",
      "source": [
        "id(0)"
      ],
      "metadata": {
        "colab": {
          "base_uri": "https://localhost:8080/"
        },
        "id": "luXbOEBvVB5p",
        "outputId": "2ce6c6bb-25cd-4e36-999a-d65edf8c3812"
      },
      "execution_count": 10,
      "outputs": [
        {
          "output_type": "execute_result",
          "data": {
            "text/plain": [
              "10757704"
            ]
          },
          "metadata": {},
          "execution_count": 10
        }
      ]
    },
    {
      "cell_type": "code",
      "source": [
        "for number in range(10):\n",
        "    print(number)\n",
        "    print(id(number))"
      ],
      "metadata": {
        "colab": {
          "base_uri": "https://localhost:8080/"
        },
        "id": "5QhXZE2XVM90",
        "outputId": "62bc1eab-5d2d-459d-b909-a0eddd0a637d"
      },
      "execution_count": 11,
      "outputs": [
        {
          "output_type": "stream",
          "name": "stdout",
          "text": [
            "0\n",
            "10757704\n",
            "1\n",
            "10757736\n",
            "2\n",
            "10757768\n",
            "3\n",
            "10757800\n",
            "4\n",
            "10757832\n",
            "5\n",
            "10757864\n",
            "6\n",
            "10757896\n",
            "7\n",
            "10757928\n",
            "8\n",
            "10757960\n",
            "9\n",
            "10757992\n"
          ]
        }
      ]
    },
    {
      "cell_type": "code",
      "source": [
        "# prompt: 2이 4제곱\n",
        "\n",
        "2**5"
      ],
      "metadata": {
        "colab": {
          "base_uri": "https://localhost:8080/"
        },
        "id": "HggnVJoeVdZB",
        "outputId": "feb14850-0a3d-4a8c-bcff-49cf47376321"
      },
      "execution_count": null,
      "outputs": [
        {
          "output_type": "execute_result",
          "data": {
            "text/plain": [
              "32"
            ]
          },
          "metadata": {},
          "execution_count": 11
        }
      ]
    },
    {
      "cell_type": "code",
      "source": [
        "a = 1\n",
        "b = 1\n",
        "print(id(a))\n",
        "print(id(b))"
      ],
      "metadata": {
        "colab": {
          "base_uri": "https://localhost:8080/"
        },
        "id": "fewQu-NtVudu",
        "outputId": "0a67e6ed-7d6b-4835-a8e2-2ecc42554be6"
      },
      "execution_count": null,
      "outputs": [
        {
          "output_type": "stream",
          "name": "stdout",
          "text": [
            "136737025573104\n",
            "136737025573104\n"
          ]
        }
      ]
    },
    {
      "cell_type": "code",
      "source": [
        "'a'"
      ],
      "metadata": {
        "colab": {
          "base_uri": "https://localhost:8080/",
          "height": 35
        },
        "id": "pLEGBOMLV3qi",
        "outputId": "929415b4-0185-44c2-9874-22808375f139"
      },
      "execution_count": null,
      "outputs": [
        {
          "output_type": "execute_result",
          "data": {
            "text/plain": [
              "'a'"
            ],
            "application/vnd.google.colaboratory.intrinsic+json": {
              "type": "string"
            }
          },
          "metadata": {},
          "execution_count": 14
        }
      ]
    },
    {
      "cell_type": "code",
      "source": [
        "ord('a')"
      ],
      "metadata": {
        "colab": {
          "base_uri": "https://localhost:8080/"
        },
        "id": "_xk5QOfvWB2i",
        "outputId": "b4c3793b-df3d-48e1-8082-95592f274464"
      },
      "execution_count": null,
      "outputs": [
        {
          "output_type": "execute_result",
          "data": {
            "text/plain": [
              "97"
            ]
          },
          "metadata": {},
          "execution_count": 15
        }
      ]
    },
    {
      "cell_type": "code",
      "source": [
        "ord('b')"
      ],
      "metadata": {
        "colab": {
          "base_uri": "https://localhost:8080/"
        },
        "id": "yurOYxnPWEjK",
        "outputId": "db0cce11-e25d-471a-9a98-16f11ac76d9b"
      },
      "execution_count": null,
      "outputs": [
        {
          "output_type": "execute_result",
          "data": {
            "text/plain": [
              "98"
            ]
          },
          "metadata": {},
          "execution_count": 17
        }
      ]
    },
    {
      "cell_type": "code",
      "source": [
        "ord('h')"
      ],
      "metadata": {
        "colab": {
          "base_uri": "https://localhost:8080/"
        },
        "id": "pMZC0filImwz",
        "outputId": "38a3ac9f-9382-470b-bb54-0e7a403eb84c"
      },
      "execution_count": null,
      "outputs": [
        {
          "output_type": "execute_result",
          "data": {
            "text/plain": [
              "104"
            ]
          },
          "metadata": {},
          "execution_count": 2
        }
      ]
    },
    {
      "cell_type": "code",
      "source": [
        "id('heeeee')"
      ],
      "metadata": {
        "colab": {
          "base_uri": "https://localhost:8080/"
        },
        "id": "0QXSMp6GIsMJ",
        "outputId": "756a0929-6144-4e55-b2f3-ee41efd173fd"
      },
      "execution_count": null,
      "outputs": [
        {
          "output_type": "execute_result",
          "data": {
            "text/plain": [
              "132456641693360"
            ]
          },
          "metadata": {},
          "execution_count": 7
        }
      ]
    },
    {
      "cell_type": "code",
      "source": [
        "for character in 'abcdefghijk':\n",
        "    print(character)\n",
        "    print(ord(character))"
      ],
      "metadata": {
        "colab": {
          "base_uri": "https://localhost:8080/"
        },
        "id": "gxz2FHvBWXOA",
        "outputId": "7f404b3d-188e-412c-89ab-31b0d934539e"
      },
      "execution_count": null,
      "outputs": [
        {
          "output_type": "stream",
          "name": "stdout",
          "text": [
            "a\n",
            "97\n",
            "b\n",
            "98\n",
            "c\n",
            "99\n",
            "d\n",
            "100\n",
            "e\n",
            "101\n",
            "f\n",
            "102\n",
            "g\n",
            "103\n",
            "h\n",
            "104\n",
            "i\n",
            "105\n",
            "j\n",
            "106\n",
            "k\n",
            "107\n"
          ]
        }
      ]
    },
    {
      "cell_type": "code",
      "source": [
        "for character in 'ㄱㄴㄷㄹ':\n",
        "    print(character)\n",
        "    print(ord(character))"
      ],
      "metadata": {
        "colab": {
          "base_uri": "https://localhost:8080/"
        },
        "id": "hMqnhLsZWmJh",
        "outputId": "e451e0bb-b543-441c-98a5-28a6c52749cb"
      },
      "execution_count": null,
      "outputs": [
        {
          "output_type": "stream",
          "name": "stdout",
          "text": [
            "ㄱ\n",
            "12593\n",
            "ㄴ\n",
            "12596\n",
            "ㄷ\n",
            "12599\n",
            "ㄹ\n",
            "12601\n"
          ]
        }
      ]
    },
    {
      "cell_type": "code",
      "source": [
        "# prompt: 'a' 문자의 2진법 표시를 구하는 코드\n",
        "\n",
        "bin(ord('a'))"
      ],
      "metadata": {
        "colab": {
          "base_uri": "https://localhost:8080/",
          "height": 35
        },
        "id": "oEhe-DgVW3vZ",
        "outputId": "a40dba6a-b53a-4041-da33-04769bae2106"
      },
      "execution_count": null,
      "outputs": [
        {
          "output_type": "execute_result",
          "data": {
            "text/plain": [
              "'0b1100001'"
            ],
            "application/vnd.google.colaboratory.intrinsic+json": {
              "type": "string"
            }
          },
          "metadata": {},
          "execution_count": 25
        }
      ]
    },
    {
      "cell_type": "code",
      "source": [
        "bin(4)"
      ],
      "metadata": {
        "colab": {
          "base_uri": "https://localhost:8080/",
          "height": 35
        },
        "id": "c8DtG_K6XFz1",
        "outputId": "a6016122-7f99-45b9-e40d-78a2a4340a07"
      },
      "execution_count": null,
      "outputs": [
        {
          "output_type": "execute_result",
          "data": {
            "text/plain": [
              "'0b100'"
            ],
            "application/vnd.google.colaboratory.intrinsic+json": {
              "type": "string"
            }
          },
          "metadata": {},
          "execution_count": 30
        }
      ]
    },
    {
      "cell_type": "code",
      "source": [
        "for num in [0,1,2,3,4,5,6,7,8,9,10,11,100]:\n",
        "    print(num)\n",
        "    print(bin(num))"
      ],
      "metadata": {
        "colab": {
          "base_uri": "https://localhost:8080/"
        },
        "id": "lCmi9ifyXq5V",
        "outputId": "d52aac2b-3ca4-499a-db80-3f141690b2f4"
      },
      "execution_count": null,
      "outputs": [
        {
          "output_type": "stream",
          "name": "stdout",
          "text": [
            "0\n",
            "0b0\n",
            "1\n",
            "0b1\n",
            "2\n",
            "0b10\n",
            "3\n",
            "0b11\n",
            "4\n",
            "0b100\n",
            "5\n",
            "0b101\n",
            "6\n",
            "0b110\n",
            "7\n",
            "0b111\n",
            "8\n",
            "0b1000\n",
            "9\n",
            "0b1001\n",
            "10\n",
            "0b1010\n",
            "11\n",
            "0b1011\n",
            "100\n",
            "0b1100100\n"
          ]
        }
      ]
    },
    {
      "cell_type": "markdown",
      "source": [
        "\n",
        "## **7. 컴퓨터 작동원리**\n",
        "- 제가 YouTube 동영상을 직접 재생할 수 없기 때문에 해당 동영상을 확인할 수 없습니다. 하지만 제공된 링크를 통해 동영상의 정보를 확인할 수 있습니다.\n",
        "\n",
        "- 주어진 링크는 YouTube에서 \"LBqJwmFMQHI\"라는 ID를 가진 동영상을 참조하고 있습니다. 이 동영상의 길이가 1031초인 것을 알 수 있습니다.\n",
        "\n",
        "- \"LBqJwmFMQHI\"는 해당 동영상의 고유 ID이며, 이를 사용하여 YouTube에서 동영상을 찾을 수 있습니다. 동영상의 제목, 설명 및 콘텐츠에 대한 자세한 정보를 찾을 수 있습니다.\n",
        "\n",
        "- 동영상의 내용이나 의미에 대해 더 알고 싶다면, 해당 동영상을 시청하거나 동영상 제목을 검색하여 관련 정보를 찾아볼 수 있습니다."
      ],
      "metadata": {
        "id": "giPgDMk7foIo"
      }
    },
    {
      "cell_type": "code",
      "source": [
        "from IPython.display import YouTubeVideo, Image\n",
        "YouTubeVideo('LBqJwmFMQHI')"
      ],
      "metadata": {
        "colab": {
          "base_uri": "https://localhost:8080/",
          "height": 321
        },
        "id": "qNa3scWlclMd",
        "outputId": "e69141a5-ac13-4ed2-8fb2-c8fddd159fae"
      },
      "execution_count": null,
      "outputs": [
        {
          "output_type": "execute_result",
          "data": {
            "text/plain": [
              "<IPython.lib.display.YouTubeVideo at 0x7c5c45699720>"
            ],
            "text/html": [
              "\n",
              "        <iframe\n",
              "            width=\"400\"\n",
              "            height=\"300\"\n",
              "            src=\"https://www.youtube.com/embed/LBqJwmFMQHI\"\n",
              "            frameborder=\"0\"\n",
              "            allowfullscreen\n",
              "            \n",
              "        ></iframe>\n",
              "        "
            ],
            "image/jpeg": "[encoded data removed]"
          },
          "metadata": {},
          "execution_count": 49
        }
      ]
    },
    {
      "cell_type": "markdown",
      "source": [
        "<img src= 'https://hongong.hanbit.co.kr/wp-content/uploads/2022/09/%EC%BB%B4%ED%93%A8%ED%84%B0-%EA%B5%AC%EC%A1%B0_CPU.png'>"
      ],
      "metadata": {
        "id": "IDR7KX1wtJEg"
      }
    },
    {
      "cell_type": "code",
      "source": [
        "a = 100\n",
        "b = 200\n",
        "c = a + b\n",
        "print(a)"
      ],
      "metadata": {
        "colab": {
          "base_uri": "https://localhost:8080/"
        },
        "id": "aQQatDlqtNby",
        "outputId": "08ce618c-c68f-456e-db2e-34fa3fd89dcf"
      },
      "execution_count": null,
      "outputs": [
        {
          "output_type": "stream",
          "name": "stdout",
          "text": [
            "100\n"
          ]
        }
      ]
    },
    {
      "cell_type": "code",
      "source": [
        "a == b"
      ],
      "metadata": {
        "colab": {
          "base_uri": "https://localhost:8080/"
        },
        "id": "o6DDHod_uQxv",
        "outputId": "a4dbdba2-b9ba-4c88-eafa-285dfe0f0718"
      },
      "execution_count": null,
      "outputs": [
        {
          "output_type": "execute_result",
          "data": {
            "text/plain": [
              "False"
            ]
          },
          "metadata": {},
          "execution_count": 5
        }
      ]
    },
    {
      "cell_type": "code",
      "source": [
        "if a == 100:\n",
        "    print('True')\n",
        "else:\n",
        "    print('False')"
      ],
      "metadata": {
        "colab": {
          "base_uri": "https://localhost:8080/"
        },
        "id": "RUj4Eil-uUhO",
        "outputId": "61b50d19-9f6c-4972-dce6-b2c22f1c797f"
      },
      "execution_count": null,
      "outputs": [
        {
          "output_type": "stream",
          "name": "stdout",
          "text": [
            "True\n"
          ]
        }
      ]
    },
    {
      "cell_type": "code",
      "source": [
        "id(a)"
      ],
      "metadata": {
        "colab": {
          "base_uri": "https://localhost:8080/"
        },
        "id": "6E7hgS34tnZy",
        "outputId": "5b65db0f-c2b2-4369-beec-7e185361ef7c"
      },
      "execution_count": null,
      "outputs": [
        {
          "output_type": "execute_result",
          "data": {
            "text/plain": [
              "136849739009360"
            ]
          },
          "metadata": {},
          "execution_count": 2
        }
      ]
    },
    {
      "cell_type": "code",
      "source": [
        "id(b)"
      ],
      "metadata": {
        "colab": {
          "base_uri": "https://localhost:8080/"
        },
        "id": "vmFZZm3XtsZx",
        "outputId": "1bb87778-d5ac-4ccb-ff18-7ef19910aba2"
      },
      "execution_count": null,
      "outputs": [
        {
          "output_type": "execute_result",
          "data": {
            "text/plain": [
              "136849739012560"
            ]
          },
          "metadata": {},
          "execution_count": 3
        }
      ]
    },
    {
      "cell_type": "code",
      "source": [
        "%whos"
      ],
      "metadata": {
        "colab": {
          "base_uri": "https://localhost:8080/"
        },
        "id": "dpj4C0R-tuTB",
        "outputId": "9bde7ede-d2dd-443b-9644-a51769baa454"
      },
      "execution_count": null,
      "outputs": [
        {
          "output_type": "stream",
          "name": "stdout",
          "text": [
            "Variable   Type    Data/Info\n",
            "----------------------------\n",
            "a          int     100\n",
            "b          int     200\n",
            "c          int     300\n"
          ]
        }
      ]
    },
    {
      "cell_type": "code",
      "source": [],
      "metadata": {
        "id": "KoBnhBJLKGiR"
      },
      "execution_count": null,
      "outputs": []
    }
  ]
}