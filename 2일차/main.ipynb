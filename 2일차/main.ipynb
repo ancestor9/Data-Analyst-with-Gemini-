{
  "nbformat": 4,
  "nbformat_minor": 0,
  "metadata": {
    "colab": {
      "provenance": [],
      "authorship_tag": "ABX9TyOGCx6Jr8zA0WOOhN5GOmVG",
      "include_colab_link": true
    },
    "kernelspec": {
      "name": "python3",
      "display_name": "Python 3"
    },
    "language_info": {
      "name": "python"
    }
  },
  "cells": [
    {
      "cell_type": "markdown",
      "metadata": {
        "id": "view-in-github",
        "colab_type": "text"
      },
      "source": [
        "<a href=\"https://colab.research.google.com/github/ancestor9/Data-Analyst-with-Gemini-/blob/main/2%EC%9D%BC%EC%B0%A8/main.ipynb\" target=\"_parent\"><img src=\"https://colab.research.google.com/assets/colab-badge.svg\" alt=\"Open In Colab\"/></a>"
      ]
    },
    {
      "cell_type": "markdown",
      "source": [
        "## **What Does if __name__ == \"__main__\" in Python?**"
      ],
      "metadata": {
        "id": "aOG79kFafcgK"
      }
    },
    {
      "cell_type": "code",
      "source": [
        "__name__"
      ],
      "metadata": {
        "colab": {
          "base_uri": "https://localhost:8080/",
          "height": 35
        },
        "id": "FiwZ9ysJlHJk",
        "outputId": "7fb5f729-4bbd-432b-dbb2-c02ff4859465"
      },
      "execution_count": 1,
      "outputs": [
        {
          "output_type": "execute_result",
          "data": {
            "text/plain": [
              "'__main__'"
            ],
            "application/vnd.google.colaboratory.intrinsic+json": {
              "type": "string"
            }
          },
          "metadata": {},
          "execution_count": 1
        }
      ]
    },
    {
      "cell_type": "code",
      "execution_count": 2,
      "metadata": {
        "colab": {
          "base_uri": "https://localhost:8080/"
        },
        "id": "4KRRoRzlfNT_",
        "outputId": "b4738c9c-c185-48bb-80db-a72962663155"
      },
      "outputs": [
        {
          "output_type": "stream",
          "name": "stdout",
          "text": [
            "my name is ---> __main__\n"
          ]
        }
      ],
      "source": [
        "if __name__ == \"__main__\":\n",
        "    print('my name is --->', __name__)"
      ]
    },
    {
      "cell_type": "code",
      "source": [
        "def main():\n",
        "\n",
        "    if __name__ == \"__main__\":\n",
        "        print('my name is in main function --->', __name__)\n",
        "    else:\n",
        "        print('my name is not in main fucntion --->', __name__)\n",
        "\n",
        "main()"
      ],
      "metadata": {
        "colab": {
          "base_uri": "https://localhost:8080/"
        },
        "id": "5NMb1qsJqy9i",
        "outputId": "33e1f84f-002e-451a-e01e-96381c04123c"
      },
      "execution_count": 3,
      "outputs": [
        {
          "output_type": "stream",
          "name": "stdout",
          "text": [
            "my name is in main function ---> __main__\n"
          ]
        }
      ]
    },
    {
      "cell_type": "code",
      "source": [
        "%%writefile main_bro.py\n",
        "\n",
        "def main():\n",
        "\n",
        "    if __name__ == \"__main__\":\n",
        "        print('my name is main function in main_bro.py --->', __name__)\n",
        "    else:\n",
        "        print('my name is not main fucntion in main_bro.py --->', __name__)\n",
        "\n",
        "main()"
      ],
      "metadata": {
        "colab": {
          "base_uri": "https://localhost:8080/"
        },
        "id": "TsNi98rNnCK7",
        "outputId": "356e880a-175e-4cd7-bfaf-6246d21416aa"
      },
      "execution_count": 4,
      "outputs": [
        {
          "output_type": "stream",
          "name": "stdout",
          "text": [
            "Overwriting main_bro.py\n"
          ]
        }
      ]
    },
    {
      "cell_type": "markdown",
      "source": [
        "## 아래 두개 코드 실행의 차이를 이해하나?\n",
        "### 1. 내가(python main_bro.py) 직접 실행되면 ---> 내가 main이야\n",
        "### 2. 다른 프로그램(main.py)에 호출당하면 ---> 난 main이 아니야!"
      ],
      "metadata": {
        "id": "hI0-_F_QmkD0"
      }
    },
    {
      "cell_type": "code",
      "source": [
        "! python main_bro.py"
      ],
      "metadata": {
        "colab": {
          "base_uri": "https://localhost:8080/"
        },
        "id": "cLeggrLJnNnZ",
        "outputId": "1f6b530a-6c10-4e48-d87b-34b1a502b747"
      },
      "execution_count": 5,
      "outputs": [
        {
          "output_type": "stream",
          "name": "stdout",
          "text": [
            "my name is main function in main_bro.py ---> __main__\n"
          ]
        }
      ]
    },
    {
      "cell_type": "code",
      "source": [
        "import main_bro\n",
        "main_bro.main()"
      ],
      "metadata": {
        "colab": {
          "base_uri": "https://localhost:8080/"
        },
        "id": "JT6D1-rbnNqv",
        "outputId": "86eaaa8b-154e-4fa4-a336-e52a6554b5b8"
      },
      "execution_count": 8,
      "outputs": [
        {
          "output_type": "stream",
          "name": "stdout",
          "text": [
            "my name is not main fucntion in main_bro.py ---> main_bro\n"
          ]
        }
      ]
    },
    {
      "cell_type": "code",
      "source": [
        "print(dir(main))"
      ],
      "metadata": {
        "colab": {
          "base_uri": "https://localhost:8080/"
        },
        "id": "I__bS3AMo3Dw",
        "outputId": "768d1de8-70c6-4896-e0cc-802894acc80d"
      },
      "execution_count": 9,
      "outputs": [
        {
          "output_type": "stream",
          "name": "stdout",
          "text": [
            "['__annotations__', '__builtins__', '__call__', '__class__', '__closure__', '__code__', '__defaults__', '__delattr__', '__dict__', '__dir__', '__doc__', '__eq__', '__format__', '__ge__', '__get__', '__getattribute__', '__getstate__', '__globals__', '__gt__', '__hash__', '__init__', '__init_subclass__', '__kwdefaults__', '__le__', '__lt__', '__module__', '__name__', '__ne__', '__new__', '__qualname__', '__reduce__', '__reduce_ex__', '__repr__', '__setattr__', '__sizeof__', '__str__', '__subclasshook__']\n"
          ]
        }
      ]
    },
    {
      "cell_type": "code",
      "source": [],
      "metadata": {
        "id": "etKyoZvHma3s"
      },
      "execution_count": 7,
      "outputs": []
    }
  ]
}