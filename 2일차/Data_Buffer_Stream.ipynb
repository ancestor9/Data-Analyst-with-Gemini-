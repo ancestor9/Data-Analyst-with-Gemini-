{
  "nbformat": 4,
  "nbformat_minor": 0,
  "metadata": {
    "colab": {
      "provenance": [],
      "authorship_tag": "ABX9TyNDXqpddI8pNKY3MxWSnaHz",
      "include_colab_link": true
    },
    "kernelspec": {
      "name": "python3",
      "display_name": "Python 3"
    },
    "language_info": {
      "name": "python"
    }
  },
  "cells": [
    {
      "cell_type": "markdown",
      "metadata": {
        "id": "view-in-github",
        "colab_type": "text"
      },
      "source": [
        "<a href=\"https://colab.research.google.com/github/ancestor9/Data-Analyst-with-Gemini-/blob/main/2%EC%9D%BC%EC%B0%A8/Data_Buffer_Stream.ipynb\" target=\"_parent\"><img src=\"https://colab.research.google.com/assets/colab-badge.svg\" alt=\"Open In Colab\"/></a>"
      ]
    },
    {
      "cell_type": "markdown",
      "source": [
        "## **Buffer** and **Stream** are concepts used in data handling, particularly in I/O operations.\n",
        "- https://docs.python.org/3/library/io.html\n",
        "\n",
        "<img src =\"https://media.geeksforgeeks.org/wp-content/uploads/20240229180931/What-is-a-Buffer.webp\">\n",
        "\n",
        "### **Buffer**\n",
        "- Buffer is a **temporary storage area that holds data** while it is being transferred from one place to another.\n",
        "- It helps to manage the differences in speed between different components of a system (e.g., reading data from a disk and writing it to memory).\n",
        "- Data is first written to a buffer and then processed, which minimizes the time-consuming operations directly on the data source.\n",
        "\n",
        "### **Stream**\n",
        "- Stream represents a **continuous flow of data**, which can be read from or written to incrementally.\n",
        "- Streams can handle data that is too large to be loaded into memory all at once.\n",
        "- They are often used for processing data that is coming from or going to a network, a file, or another I/O source."
      ],
      "metadata": {
        "id": "VK72EnKg394b"
      }
    },
    {
      "cell_type": "markdown",
      "source": [
        "## **1. Using Buffer with File I/O**\n",
        "- Buffers are often used internally by I/O operations to improve performance."
      ],
      "metadata": {
        "id": "01uY30ra4y8C"
      }
    },
    {
      "cell_type": "code",
      "source": [
        "import io\n",
        "\n",
        "# Example of using a buffer\n",
        "\n",
        "buffer = io.BytesIO()\n",
        "\n",
        "buffer.write(b\"Hello, this is a buffer example.\")\n",
        "\n",
        "# the write operation moves the file pointer to the end of the buffe\n",
        "print(buffer.read())  # Read the content from the buffer"
      ],
      "metadata": {
        "colab": {
          "base_uri": "https://localhost:8080/"
        },
        "id": "cQf_HJ5s49z0",
        "outputId": "4477b5d7-0ac4-4c6c-fc34-a4f866d31b3b"
      },
      "execution_count": 1,
      "outputs": [
        {
          "output_type": "stream",
          "name": "stdout",
          "text": [
            "b''\n"
          ]
        }
      ]
    },
    {
      "cell_type": "markdown",
      "source": [
        "### 왜 \"Hello, this is a buffer example.\"를 읽지 못하지.\n",
        "### 데이터는 흐르는 강물처럼!"
      ],
      "metadata": {
        "id": "hqlkUuFFofMu"
      }
    },
    {
      "cell_type": "code",
      "source": [
        "buffer.seek(0)  # Move the cursor to the beginning of the buffer\n",
        "\n",
        "print(buffer.read())"
      ],
      "metadata": {
        "colab": {
          "base_uri": "https://localhost:8080/"
        },
        "id": "GmOdJOTu5FM4",
        "outputId": "a66f2234-107b-47d0-f358-d01add543188"
      },
      "execution_count": 2,
      "outputs": [
        {
          "output_type": "stream",
          "name": "stdout",
          "text": [
            "b'Hello, this is a buffer example.'\n"
          ]
        }
      ]
    },
    {
      "cell_type": "code",
      "source": [
        "print(buffer.read())"
      ],
      "metadata": {
        "colab": {
          "base_uri": "https://localhost:8080/"
        },
        "id": "Qt3SZgp45N2B",
        "outputId": "13d5f001-62c7-490a-f286-6ace851c04d4"
      },
      "execution_count": 3,
      "outputs": [
        {
          "output_type": "stream",
          "name": "stdout",
          "text": [
            "b''\n"
          ]
        }
      ]
    },
    {
      "cell_type": "code",
      "source": [
        "print(buffer.read())"
      ],
      "metadata": {
        "colab": {
          "base_uri": "https://localhost:8080/"
        },
        "id": "H6v1iuv25PhQ",
        "outputId": "277ddb9f-b950-4602-9581-adf9cdbf3bd3"
      },
      "execution_count": 4,
      "outputs": [
        {
          "output_type": "stream",
          "name": "stdout",
          "text": [
            "b''\n"
          ]
        }
      ]
    },
    {
      "cell_type": "markdown",
      "source": [
        "## **2. Using Stream with File I/O**\n",
        "- Streams are typically used with files or network operations to read/write data incrementally.\n",
        "- **Reading from a file using a stream:**"
      ],
      "metadata": {
        "id": "By4ctJUQ5Thj"
      }
    },
    {
      "cell_type": "code",
      "source": [
        "with open('example.txt', 'w') as f:\n",
        "    f.write(\"This is an example text for the stream.\\nAnother line of text\\nhello world.\")\n",
        "\n",
        "with open('example.txt', 'r') as file_stream:\n",
        "    print(file_stream)\n",
        "    for line in file_stream:\n",
        "        print(line.strip())  # Processing the file line by line (streaming)"
      ],
      "metadata": {
        "colab": {
          "base_uri": "https://localhost:8080/"
        },
        "id": "w4a022Co5fqe",
        "outputId": "fa0a92df-a3d3-4636-8777-1c599241c989"
      },
      "execution_count": 5,
      "outputs": [
        {
          "output_type": "stream",
          "name": "stdout",
          "text": [
            "<_io.TextIOWrapper name='example.txt' mode='r' encoding='utf-8'>\n",
            "This is an example text for the stream.\n",
            "Another line of text\n",
            "hello world.\n"
          ]
        }
      ]
    },
    {
      "cell_type": "markdown",
      "source": [
        "- **Writing to a file using a stream:**"
      ],
      "metadata": {
        "id": "hVXWW3c96Fyq"
      }
    },
    {
      "cell_type": "code",
      "source": [
        "with open('output.txt', 'w') as file_stream:\n",
        "    for i in range(5):\n",
        "        file_stream.write(f\"This is line {i + 1}\\n\")"
      ],
      "metadata": {
        "id": "nTCYODZa5yiZ"
      },
      "execution_count": 6,
      "outputs": []
    },
    {
      "cell_type": "code",
      "source": [
        "with open('output.txt', 'r') as file_stream:\n",
        "    for i in range(5):\n",
        "        print(file_stream)"
      ],
      "metadata": {
        "colab": {
          "base_uri": "https://localhost:8080/"
        },
        "id": "4PGzTXH46LuI",
        "outputId": "df24af51-f8f6-4a69-aaa4-47d8de33500a"
      },
      "execution_count": 7,
      "outputs": [
        {
          "output_type": "stream",
          "name": "stdout",
          "text": [
            "<_io.TextIOWrapper name='output.txt' mode='r' encoding='utf-8'>\n",
            "<_io.TextIOWrapper name='output.txt' mode='r' encoding='utf-8'>\n",
            "<_io.TextIOWrapper name='output.txt' mode='r' encoding='utf-8'>\n",
            "<_io.TextIOWrapper name='output.txt' mode='r' encoding='utf-8'>\n",
            "<_io.TextIOWrapper name='output.txt' mode='r' encoding='utf-8'>\n"
          ]
        }
      ]
    },
    {
      "cell_type": "markdown",
      "source": [
        "### **real example**"
      ],
      "metadata": {
        "id": "GRljxXZp74C8"
      }
    },
    {
      "cell_type": "code",
      "source": [
        "import nltk\n",
        "nltk.download('gutenberg')"
      ],
      "metadata": {
        "colab": {
          "base_uri": "https://localhost:8080/"
        },
        "id": "dQf_AVQY77lj",
        "outputId": "9081e96e-a079-4fff-ef29-d8b7a79010f9"
      },
      "execution_count": 8,
      "outputs": [
        {
          "output_type": "stream",
          "name": "stderr",
          "text": [
            "[nltk_data] Downloading package gutenberg to /root/nltk_data...\n",
            "[nltk_data]   Unzipping corpora/gutenberg.zip.\n"
          ]
        },
        {
          "output_type": "execute_result",
          "data": {
            "text/plain": [
              "True"
            ]
          },
          "metadata": {},
          "execution_count": 8
        }
      ]
    },
    {
      "cell_type": "code",
      "source": [
        "from nltk.corpus import gutenberg\n",
        "print(gutenberg.fileids())"
      ],
      "metadata": {
        "colab": {
          "base_uri": "https://localhost:8080/"
        },
        "id": "ZcS1SeuOAGa1",
        "outputId": "c104a956-329f-47ed-a812-ee24766b6691"
      },
      "execution_count": 10,
      "outputs": [
        {
          "output_type": "stream",
          "name": "stdout",
          "text": [
            "['austen-emma.txt', 'austen-persuasion.txt', 'austen-sense.txt', 'bible-kjv.txt', 'blake-poems.txt', 'bryant-stories.txt', 'burgess-busterbrown.txt', 'carroll-alice.txt', 'chesterton-ball.txt', 'chesterton-brown.txt', 'chesterton-thursday.txt', 'edgeworth-parents.txt', 'melville-moby_dick.txt', 'milton-paradise.txt', 'shakespeare-caesar.txt', 'shakespeare-hamlet.txt', 'shakespeare-macbeth.txt', 'whitman-leaves.txt']\n"
          ]
        }
      ]
    },
    {
      "cell_type": "code",
      "source": [
        "emma_text = gutenberg.raw('melville-moby_dick.txt')\n",
        "print(emma_text[:1000])  # 처음 1000자만 출력해 보기"
      ],
      "metadata": {
        "colab": {
          "base_uri": "https://localhost:8080/"
        },
        "id": "57K5fD-w82_R",
        "outputId": "0c6e53bb-353d-4bca-f21d-dcd34fb96dc1"
      },
      "execution_count": 11,
      "outputs": [
        {
          "output_type": "stream",
          "name": "stdout",
          "text": [
            "[Moby Dick by Herman Melville 1851]\r\n",
            "\r\n",
            "\r\n",
            "ETYMOLOGY.\r\n",
            "\r\n",
            "(Supplied by a Late Consumptive Usher to a Grammar School)\r\n",
            "\r\n",
            "The pale Usher--threadbare in coat, heart, body, and brain; I see him\r\n",
            "now.  He was ever dusting his old lexicons and grammars, with a queer\r\n",
            "handkerchief, mockingly embellished with all the gay flags of all the\r\n",
            "known nations of the world.  He loved to dust his old grammars; it\r\n",
            "somehow mildly reminded him of his mortality.\r\n",
            "\r\n",
            "\"While you take in hand to school others, and to teach them by what\r\n",
            "name a whale-fish is to be called in our tongue leaving out, through\r\n",
            "ignorance, the letter H, which almost alone maketh the signification\r\n",
            "of the word, you deliver that which is not true.\" --HACKLUYT\r\n",
            "\r\n",
            "\"WHALE. ... Sw. and Dan. HVAL.  This animal is named from roundness\r\n",
            "or rolling; for in Dan. HVALT is arched or vaulted.\" --WEBSTER'S\r\n",
            "DICTIONARY\r\n",
            "\r\n",
            "\"WHALE. ... It is more immediately from the Dut. and Ger. WALLEN;\r\n",
            "A.S. WALW-IAN, to roll, to wallow.\" --RICHARDSON'S DICTIONARY\r\n",
            "\r\n"
          ]
        }
      ]
    },
    {
      "cell_type": "code",
      "source": [
        "text = emma_text[:1000]\n",
        "len(text)"
      ],
      "metadata": {
        "colab": {
          "base_uri": "https://localhost:8080/"
        },
        "id": "z-VvySZjAl5n",
        "outputId": "95fcf8e2-cd08-476a-d445-a4040d6a0ef5"
      },
      "execution_count": 12,
      "outputs": [
        {
          "output_type": "execute_result",
          "data": {
            "text/plain": [
              "1000"
            ]
          },
          "metadata": {},
          "execution_count": 12
        }
      ]
    },
    {
      "cell_type": "code",
      "source": [
        "# text를 파일로 저정하기\n",
        "\n",
        "with open('melville-moby_dick.txt', 'w') as f:\n",
        "  f.write(text)"
      ],
      "metadata": {
        "id": "WmH8KgaTBOtw"
      },
      "execution_count": 13,
      "outputs": []
    },
    {
      "cell_type": "code",
      "source": [
        "from nltk.tokenize import sent_tokenize\n",
        "\n",
        "buffer_size = 1024\n",
        "\n",
        "def process_file(file_path, buffer_size):\n",
        "    with open(file_path, 'r', encoding='utf-8') as file:\n",
        "        while True:\n",
        "            buffer = file.read(buffer_size)  # 버퍼 크기만큼 읽기\n",
        "            if not buffer:  # 읽을 내용이 없으면 반복 종료\n",
        "                break\n",
        "            print(buffer)  # 버퍼 출력\n",
        "\n",
        "\n",
        "# 함수 호출, 버퍼 크기는 1024 바이트\n",
        "process_file('melville-moby_dick.txt', buffer_size)\n"
      ],
      "metadata": {
        "colab": {
          "base_uri": "https://localhost:8080/"
        },
        "id": "uw4DHh9B8yrH",
        "outputId": "53d966b6-904a-41c4-aa4e-8a41e6418268"
      },
      "execution_count": 14,
      "outputs": [
        {
          "output_type": "stream",
          "name": "stdout",
          "text": [
            "[Moby Dick by Herman Melville 1851]\n",
            "\n",
            "\n",
            "ETYMOLOGY.\n",
            "\n",
            "(Supplied by a Late Consumptive Usher to a Grammar School)\n",
            "\n",
            "The pale Usher--threadbare in coat, heart, body, and brain; I see him\n",
            "now.  He was ever dusting his old lexicons and grammars, with a queer\n",
            "handkerchief, mockingly embellished with all the gay flags of all the\n",
            "known nations of the world.  He loved to dust his old grammars; it\n",
            "somehow mildly reminded him of his mortality.\n",
            "\n",
            "\"While you take in hand to school others, and to teach them by what\n",
            "name a whale-fish is to be called in our tongue leaving out, through\n",
            "ignorance, the letter H, which almost alone maketh the signification\n",
            "of the word, you deliver that which is not true.\" --HACKLUYT\n",
            "\n",
            "\"WHALE. ... Sw. and Dan. HVAL.  This animal is named from roundness\n",
            "or rolling; for in Dan. HVALT is arched or vaulted.\" --WEBSTER'S\n",
            "DICTIONARY\n",
            "\n",
            "\"WHALE. ... It is more immediately from the Dut. and Ger. WALLEN;\n",
            "A.S. WALW-IAN, to roll, to wallow.\" --RICHARDSON'S DICTIONARY\n",
            "\n",
            "\n"
          ]
        }
      ]
    },
    {
      "cell_type": "code",
      "source": [],
      "metadata": {
        "id": "LbOK-tWVA16D"
      },
      "execution_count": null,
      "outputs": []
    }
  ]
}